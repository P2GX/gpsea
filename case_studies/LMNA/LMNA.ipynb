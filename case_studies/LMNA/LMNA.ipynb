{
 "cells": [
  {
   "cell_type": "markdown",
   "source": [
    "# LMNA"
   ],
   "metadata": {
    "collapsed": false
   },
   "id": "e74be9ff0537de82"
  },
  {
   "cell_type": "code",
   "outputs": [
    {
     "name": "stdout",
     "output_type": "stream",
     "text": [
      "Using genophenocorr version 0.1.1dev\n"
     ]
    }
   ],
   "source": [
    "import genophenocorr\n",
    "print(f\"Using genophenocorr version {genophenocorr.__version__}\")"
   ],
   "metadata": {
    "collapsed": false,
    "ExecuteTime": {
     "end_time": "2024-02-20T14:57:02.243666600Z",
     "start_time": "2024-02-20T14:57:02.236667Z"
    }
   },
   "id": "5a3af44bc3c0aef5",
   "execution_count": 5
  },
  {
   "cell_type": "code",
   "outputs": [],
   "source": [
    "import hpotk\n",
    "\n",
    "fpath_hpo = 'https://github.com/obophenotype/human-phenotype-ontology/releases/download/v2024-02-08/hp.json'\n",
    "hpo = hpotk.load_minimal_ontology(fpath_hpo)"
   ],
   "metadata": {
    "collapsed": false,
    "ExecuteTime": {
     "end_time": "2024-02-20T14:57:06.568095Z",
     "start_time": "2024-02-20T14:57:02.248177800Z"
    }
   },
   "id": "5c9e5d8b5b134e1a",
   "execution_count": 6
  },
  {
   "cell_type": "code",
   "outputs": [
    {
     "name": "stderr",
     "output_type": "stream",
     "text": [
      "Patients Created: 100%|██████████| 127/127 [01:26<00:00,  1.47it/s]\n",
      "Validated under none policy\r\n",
      "No errors or warnings were found\n"
     ]
    }
   ],
   "source": [
    "from genophenocorr.preprocessing import configure_caching_cohort_creator, load_phenopacket_folder\n",
    "\n",
    "fpath_phenopackets = 'input'\n",
    "cohort_creator = configure_caching_cohort_creator(hpo)\n",
    "cohort = load_phenopacket_folder(fpath_phenopackets, cohort_creator)"
   ],
   "metadata": {
    "collapsed": false,
    "ExecuteTime": {
     "end_time": "2024-02-20T14:58:33.257730200Z",
     "start_time": "2024-02-20T14:57:06.570095700Z"
    }
   },
   "id": "a3b52e65351030dc",
   "execution_count": 7
  },
  {
   "cell_type": "code",
   "outputs": [],
   "source": [],
   "metadata": {
    "collapsed": false,
    "ExecuteTime": {
     "end_time": "2024-02-20T14:58:33.273763400Z",
     "start_time": "2024-02-20T14:58:33.257730200Z"
    }
   },
   "id": "70f2345945b5213c",
   "execution_count": 7
  }
 ],
 "metadata": {
  "kernelspec": {
   "display_name": "Python 3",
   "language": "python",
   "name": "python3"
  },
  "language_info": {
   "codemirror_mode": {
    "name": "ipython",
    "version": 2
   },
   "file_extension": ".py",
   "mimetype": "text/x-python",
   "name": "python",
   "nbconvert_exporter": "python",
   "pygments_lexer": "ipython2",
   "version": "2.7.6"
  }
 },
 "nbformat": 4,
 "nbformat_minor": 5
}
