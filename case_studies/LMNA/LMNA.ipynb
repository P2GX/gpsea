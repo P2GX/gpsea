{
 "cells": [
  {
   "cell_type": "markdown",
   "id": "e74be9ff0537de82",
   "metadata": {},
   "source": [
    "# LMNA"
   ]
  },
  {
   "cell_type": "code",
   "execution_count": null,
   "id": "5a3af44bc3c0aef5",
   "metadata": {
    "ExecuteTime": {
     "end_time": "2024-02-20T14:57:02.243666600Z",
     "start_time": "2024-02-20T14:57:02.236667Z"
    }
   },
   "outputs": [],
   "source": [
    "import genophenocorr\n",
    "print(f\"Using genophenocorr version {genophenocorr.__version__}\")"
   ]
  },
  {
   "cell_type": "code",
   "execution_count": null,
   "id": "5c9e5d8b5b134e1a",
   "metadata": {
    "ExecuteTime": {
     "end_time": "2024-02-20T14:57:06.568095Z",
     "start_time": "2024-02-20T14:57:02.248177800Z"
    }
   },
   "outputs": [],
   "source": [
    "import hpotk\n",
    "\n",
    "fpath_hpo = 'https://github.com/obophenotype/human-phenotype-ontology/releases/download/v2024-02-08/hp.json'\n",
    "hpo = hpotk.load_minimal_ontology(fpath_hpo)"
   ]
  },
  {
   "cell_type": "code",
   "execution_count": null,
   "id": "a3b52e65351030dc",
   "metadata": {
    "ExecuteTime": {
     "end_time": "2024-02-20T14:58:33.257730200Z",
     "start_time": "2024-02-20T14:57:06.570095700Z"
    }
   },
   "outputs": [],
   "source": [
    "from genophenocorr.preprocessing import configure_caching_cohort_creator, load_phenopacket_folder\n",
    "\n",
    "fpath_phenopackets = 'input'\n",
    "cohort_creator = configure_caching_cohort_creator(hpo)\n",
    "cohort = load_phenopacket_folder(fpath_phenopackets, cohort_creator)"
   ]
  },
  {
   "cell_type": "markdown",
   "id": "4774dd9216a253fc",
   "metadata": {},
   "source": [
    "## Transcript\n",
    "Get it by looking for gene symbol in https://www.ncbi.nlm.nih.gov/clinvar/ look for pathogenic\n",
    "zcopy it and go to https://variantvalidator.org/service/validate/, then scroll down to copy GRCH38 string, copy this and put into same website\n",
    "\n",
    "looking for MANE select plus clinical (most important transcript for clinic) if doesnt exist, use clinvar result"
   ]
  },
  {
   "cell_type": "code",
   "execution_count": null,
   "id": "624466e48a2046e",
   "metadata": {
    "ExecuteTime": {
     "end_time": "2024-02-20T16:06:01.974507100Z",
     "start_time": "2024-02-20T16:06:01.968506100Z"
    }
   },
   "outputs": [],
   "source": [
    "tx_id = 'NM_170707.4'"
   ]
  },
  {
   "cell_type": "markdown",
   "id": "986dd1fb634d9a62",
   "metadata": {},
   "source": [
    "## Explore Cohort"
   ]
  },
  {
   "cell_type": "code",
   "execution_count": null,
   "id": "5c27ec7e5affa54f",
   "metadata": {},
   "outputs": [],
   "source": [
    "from IPython.display import HTML, display\n",
    "from genophenocorr.view import CohortViewer\n",
    "\n",
    "viewer = CohortViewer(hpo)"
   ]
  },
  {
   "cell_type": "code",
   "execution_count": null,
   "id": "9b23d6563240a28",
   "metadata": {
    "ExecuteTime": {
     "end_time": "2024-02-20T16:12:21.622146100Z",
     "start_time": "2024-02-20T16:12:21.594225300Z"
    }
   },
   "outputs": [],
   "source": [
    "display(HTML(viewer.cohort_summary_table(cohort)))"
   ]
  },
  {
   "cell_type": "code",
   "execution_count": null,
   "id": "691300819c834978",
   "metadata": {},
   "outputs": [],
   "source": [
    "display(HTML(viewer.hpo_term_counts_table(cohort))) ## Add Labels to output"
   ]
  },
  {
   "cell_type": "code",
   "execution_count": null,
   "id": "689b2ae0-7eaf-4993-bfdc-4c638c6538ab",
   "metadata": {},
   "outputs": [],
   "source": [
    "display(HTML(viewer.variants_table(cohort, tx_id))) "
   ]
  },
  {
   "cell_type": "markdown",
   "id": "3cde1a84a1b62676",
   "metadata": {},
   "source": [
    "## Configure the analysis"
   ]
  },
  {
   "cell_type": "code",
   "execution_count": null,
   "id": "d0ee56e0c371dcd1",
   "metadata": {},
   "outputs": [],
   "source": [
    "from genophenocorr.analysis import configure_cohort_analysis, CohortAnalysisConfiguration\n",
    "from genophenocorr.analysis.predicate import BooleanPredicate, GroupingPredicate\n",
    "\n",
    "analysis_config = CohortAnalysisConfiguration.builder() \\\n",
    "    .missing_implies_excluded(True) \\\n",
    "    .pval_correction('fdr_bh') \\\n",
    "    .min_perc_patients_w_hpo(0.1) \\\n",
    "    .build()\n",
    "analysis = configure_cohort_analysis(cohort, hpo, analysis_config)\n",
    "\n",
    "# did not work because we didn#'t get the right transcript\n",
    "# frameshift = analysis.compare_by_variant_effect(VariantEffect.FRAMESHIFT_VARIANT, tx_id)\n",
    "# frameshift.summarize(hpo, BooleanPredicate.YES)\n",
    "var_single = analysis.compare_by_variant_key('1_156138613_156138613_C_T')\n",
    "var_single.summarize(hpo, BooleanPredicate.YES)"
   ]
  }
 ],
 "metadata": {
  "kernelspec": {
   "display_name": "Python 3 (ipykernel)",
   "language": "python",
   "name": "python3"
  },
  "language_info": {
   "codemirror_mode": {
    "name": "ipython",
    "version": 3
   },
   "file_extension": ".py",
   "mimetype": "text/x-python",
   "name": "python",
   "nbconvert_exporter": "python",
   "pygments_lexer": "ipython3",
   "version": "3.10.10"
  }
 },
 "nbformat": 4,
 "nbformat_minor": 5
}
