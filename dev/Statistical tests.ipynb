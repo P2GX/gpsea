{
 "cells": [
  {
   "cell_type": "markdown",
   "id": "a5fb9fbb-370b-4e5d-9f04-3fab713000a5",
   "metadata": {},
   "source": [
    "**Statistical tests**\n",
    "\n",
    "This notebook is a playground for showing and testing statistical methods used by the `genophenocorr` library \n",
    "to discover genotype-phenotype correlations in patients annotated with HPO terms."
   ]
  },
  {
   "cell_type": "markdown",
   "id": "ea476a3c-2bcc-496b-88d2-e9cadea3a8f1",
   "metadata": {},
   "source": [
    "# Install the `genophenocorr` library\n",
    "\n",
    "The notebook needs `genophenocorr` to be installed in the Python environment. `genophenocorr` is still mostly work in progress, so the best way is to install from sources.\n",
    "\n",
    "We assume availability of `git` and Python 3.8 or better in the environment.\n",
    "\n",
    "```shell\n",
    "git clone git@github.com:monarch-initiative/genophenocorr.git\n",
    "cd genophenocorr\n",
    "git checkout develop && git pull\n",
    "\n",
    "python3 -m pip install --editable .[test]\n",
    "\n",
    "pytest\n",
    "```\n",
    "\n",
    "First, we download the source code from the GitHub repository, and we switch to `develop` branch to access the bleeding-edge features. Then, we install `genophenocorr` into the active environment, including the [dependencies](https://github.com/monarch-initiative/genophenocorr/blob/020832e850ef7107aa9de61462bc3490e0deb574/pyproject.toml#L34). As an optional last step, we run the tests to ensure installation went well.\n",
    "\n",
    "With this setup, we are ready to run the rest of the notebook, assuming the notebook kernel corresponds to the Python environment where `genophenocorr` was installed to."
   ]
  },
  {
   "cell_type": "markdown",
   "id": "c33b3a27-950e-451e-91da-d38710b702ef",
   "metadata": {},
   "source": [
    "# Example analysis\n",
    "\n",
    "For the purpose of this analysis, we use a cohort of patients with mutations in *SUOX* gene, curated from published case reports. \n",
    "\n",
    "The patient data includes:\n",
    "- a `str` identifier that is unique to the patient within the cohort,\n",
    "- a list of clinical signs and symptoms encoded into terms of Human Phenotype Ontology,\n",
    "- one or more causal mutations in *SUOX* gene\n",
    "\n",
    "The patient data is formatted as phenopackets of phenopacket schema."
   ]
  },
  {
   "cell_type": "markdown",
   "id": "ce658aa1-61a9-43e1-852a-2117228bdab2",
   "metadata": {},
   "source": [
    "## Create patient cohort\n",
    "\n",
    "Let's start with loading of the patient data from the phenopackets:"
   ]
  },
  {
   "cell_type": "code",
   "execution_count": 1,
   "id": "3f039762-e276-4570-bd7b-0d9a5e1fcd52",
   "metadata": {},
   "outputs": [],
   "source": [
    "import hpotk\n",
    "\n",
    "from genophenocorr.preprocessing import configure_caching_cohort_creator\n",
    "\n",
    "hpo_url = 'https://github.com/obophenotype/human-phenotype-ontology/releases/download/v2023-10-09/hp.json'\n",
    "hpo = hpotk.load_minimal_ontology(hpo_url)\n",
    "\n",
    "cohort_creator = configure_caching_cohort_creator(hpo)"
   ]
  },
  {
   "cell_type": "markdown",
   "id": "8f03c3ea-989e-4e2c-b14d-397895ad883c",
   "metadata": {},
   "source": [
    "For reproducibility, we download a specific HPO version `v2023-10-09` and we will use it to load the phenopacket cohort in the cohort creator."
   ]
  },
  {
   "cell_type": "markdown",
   "id": "9597e6ed-3016-481a-a2b2-263f87dc349f",
   "metadata": {},
   "source": [
    "Now we can ETL the phenopackets into data format expected by `genophenocorr`. \n",
    "\n",
    "Assuming the notebook is run from its location within `genophenocorr` repository, we use the pe\u0000 \u0000t\u0000h\u0000e\u0000 \u0000located at [notebooks/SUOX/phenopackets](https://github.com/monarch-initiative/genophenocorr/tree/develop/notebooks/SUOX/phenopackets):"
   ]
  },
  {
   "cell_type": "code",
   "execution_count": 2,
   "id": "c26931cc-ae85-42fd-8b40-2fdc323821eb",
   "metadata": {},
   "outputs": [
    {
     "name": "stderr",
     "output_type": "stream",
     "text": [
      "Loading phenopackets from /home/ielis/ielis/phenotypes/genophenocorr/notebooks/SUOX/phenopackets\n",
      "Patients Created: 100%|██████████| 35/35 [00:00<00:00, 620.92it/s]\n",
      "Validated under none policy\n",
      "No errors or warnings were found\n"
     ]
    }
   ],
   "source": [
    "import os\n",
    "import sys\n",
    "from genophenocorr.preprocessing import load_phenopacket_folder\n",
    "\n",
    "fpath_parent = os.path.dirname(os.getcwd())\n",
    "fpath_phenopacket_dir = os.path.join(fpath_parent, 'notebooks', 'SUOX', 'phenopackets')\n",
    "print(f'Loading phenopackets from {fpath_phenopacket_dir}', file=sys.stderr)\n",
    "\n",
    "cohort = load_phenopacket_folder(fpath_phenopacket_dir, cohort_creator)"
   ]
  },
  {
   "cell_type": "markdown",
   "id": "8e7eff97-2a4f-4506-8121-ed70c20e008f",
   "metadata": {},
   "source": [
    "The code finds the directory with phenopackets and starts the loading.\n",
    "\n",
    "The loading extracts the identifiers, HPO terms and vairants from the phenopacket JSON files and proceeds with functional annotation of the variants. \n",
    "\n",
    "> We use Variant Effect Predictor (VEP) REST endpoint to perform the annotation. However, we cache the results to conserve bandwidth and to speed up the subsequent runs.\n",
    "\n",
    "The loading is concluded with validation of the HPO terms and variants."
   ]
  },
  {
   "cell_type": "markdown",
   "id": "7367caf3-be4c-4183-8768-744d658b5eaf",
   "metadata": {},
   "source": [
    "## Explore the cohort\n",
    "\n",
    "Let's explore the cohort to gain preliminary insights."
   ]
  },
  {
   "cell_type": "code",
   "execution_count": 3,
   "id": "3653b976-f303-4321-8e83-a5cdad920521",
   "metadata": {},
   "outputs": [],
   "source": [
    "from IPython.display import HTML, display\n",
    "from genophenocorr.view import CohortViewer\n",
    "\n",
    "viewer = CohortViewer(hpo)"
   ]
  },
  {
   "cell_type": "markdown",
   "id": "b38bc5bd-47c1-48d9-b308-f6218e5595f5",
   "metadata": {},
   "source": [
    "Show the number of cohort members, count of unique HPO terms and variants:"
   ]
  },
  {
   "cell_type": "code",
   "execution_count": 4,
   "id": "8ec43cb1-8dd4-461c-991d-1d50b4a8c721",
   "metadata": {},
   "outputs": [
    {
     "data": {
      "text/html": [
       "<style>\n",
       "\n",
       "table {\n",
       "  border-collapse: collapse; \n",
       "  margin: 25px 0;\n",
       "    font-size: 0.9em;\n",
       "    font-family: sans-serif;\n",
       "    min-width: 400px;\n",
       "    box-shadow: 0 0 20px rgba(0, 0, 0, 0.15);\n",
       "}\n",
       "\n",
       "\n",
       "th {\n",
       "  background-color: #f2f2f2; \n",
       "  border: 1px solid #dddddd; \n",
       "  text-align: left;\n",
       "  padding: 2px;\n",
       "}\n",
       "\n",
       "tr {\n",
       "  border: 1px solid #dddddd; \n",
       "}\n",
       "\n",
       "td {\n",
       "  padding: 2px; \n",
       "  font-weight: bold;\n",
       "}\n",
       "\n",
       "tr:nth-child(even) {\n",
       "  background-color: #f2f2f2;\n",
       "}\n",
       "</style>\n",
       "\n",
       "<table>\n",
       "<tr><td>Item</td><td>Description</td></tr>\n",
       "<caption>Description of the cohort. </caption>\n",
       "<tr><td>Total Individuals</td><td>35</td></tr>\n",
       "<tr><td>Total Unique HPO Terms</td><td>32</td></tr>\n",
       "<tr><td>Total Unique Variants</td><td>48</td></tr>\n",
       "</table>"
      ],
      "text/plain": [
       "<IPython.core.display.HTML object>"
      ]
     },
     "metadata": {},
     "output_type": "display_data"
    }
   ],
   "source": [
    "display(HTML(viewer.cohort_summary_table(cohort)))"
   ]
  },
  {
   "cell_type": "markdown",
   "id": "4a3d29fa-1156-408a-961a-302f1b472b7e",
   "metadata": {},
   "source": [
    "Count the number of times an HPO term is used as an annotation in the cohort member:"
   ]
  },
  {
   "cell_type": "code",
   "execution_count": 5,
   "id": "3ae09667-81ef-4526-a88a-6549d213fc37",
   "metadata": {},
   "outputs": [
    {
     "data": {
      "text/html": [
       "<style>\n",
       "\n",
       "table {\n",
       "  border-collapse: collapse; \n",
       "  margin: 25px 0;\n",
       "    font-size: 0.9em;\n",
       "    font-family: sans-serif;\n",
       "    min-width: 400px;\n",
       "    box-shadow: 0 0 20px rgba(0, 0, 0, 0.15);\n",
       "}\n",
       "\n",
       "\n",
       "th {\n",
       "  background-color: #f2f2f2; \n",
       "  border: 1px solid #dddddd; \n",
       "  text-align: left;\n",
       "  padding: 2px;\n",
       "}\n",
       "\n",
       "tr {\n",
       "  border: 1px solid #dddddd; \n",
       "}\n",
       "\n",
       "td {\n",
       "  padding: 2px; \n",
       "  font-weight: bold;\n",
       "}\n",
       "\n",
       "tr:nth-child(even) {\n",
       "  background-color: #f2f2f2;\n",
       "}\n",
       "</style>\n",
       "\n",
       "<table>\n",
       "<tr><td>HPO Term</td><td>Count</td></tr>\n",
       "<caption>Counts of annotations to HPO terms for the 35 in the cohort</caption>\n",
       "<tr><td><a href=\"https://hpo.jax.org/app/browse/term/HP:0001250\">Seizure (HP:0001250)</a></td><td>28</td></tr>\n",
       "<tr><td><a href=\"https://hpo.jax.org/app/browse/term/HP:0001252\">Hypotonia (HP:0001252)</a></td><td>15</td></tr>\n",
       "<tr><td><a href=\"https://hpo.jax.org/app/browse/term/HP:0032350\">Sulfocysteinuria (HP:0032350)</a></td><td>13</td></tr>\n",
       "<tr><td><a href=\"https://hpo.jax.org/app/browse/term/HP:0002071\">Abnormality of extrapyramidal motor function (HP:0002071)</a></td><td>11</td></tr>\n",
       "<tr><td><a href=\"https://hpo.jax.org/app/browse/term/HP:0001276\">Hypertonia (HP:0001276)</a></td><td>11</td></tr>\n",
       "<tr><td><a href=\"https://hpo.jax.org/app/browse/term/HP:0000252\">Microcephaly (HP:0000252)</a></td><td>10</td></tr>\n",
       "<tr><td><a href=\"https://hpo.jax.org/app/browse/term/HP:0012758\">Neurodevelopmental delay (HP:0012758)</a></td><td>8</td></tr>\n",
       "<tr><td><a href=\"https://hpo.jax.org/app/browse/term/HP:0001083\">Ectopia lentis (HP:0001083)</a></td><td>7</td></tr>\n",
       "<tr><td><a href=\"https://hpo.jax.org/app/browse/term/HP:0500152\">Hypocystinemia (HP:0500152)</a></td><td>7</td></tr>\n",
       "<tr><td><a href=\"https://hpo.jax.org/app/browse/term/HP:0003537\">Hypouricemia (HP:0003537)</a></td><td>7</td></tr>\n",
       "<tr><td><a href=\"https://hpo.jax.org/app/browse/term/HP:0034332\">Cognitive regression (HP:0034332)</a></td><td>6</td></tr>\n",
       "<tr><td><a href=\"https://hpo.jax.org/app/browse/term/HP:0003166\">Increased urinary taurine (HP:0003166)</a></td><td>5</td></tr>\n",
       "<tr><td><a href=\"https://hpo.jax.org/app/browse/term/HP:0011935\">Decreased urinary urate (HP:0011935)</a></td><td>2</td></tr>\n",
       "<tr><td><a href=\"https://hpo.jax.org/app/browse/term/HP:0034745\">Elevated circulating S-sulfocysteine concentration (HP:0034745)</a></td><td>2</td></tr>\n",
       "<tr><td><a href=\"https://hpo.jax.org/app/browse/term/HP:0010934\">Xanthinuria (HP:0010934)</a></td><td>2</td></tr>\n",
       "<tr><td><a href=\"https://hpo.jax.org/app/browse/term/HP:0500181\">Hypertaurinemia (HP:0500181)</a></td><td>1</td></tr>\n",
       "<tr><td><a href=\"https://hpo.jax.org/app/browse/term/HP:0011814\">Increased urinary hypoxanthine level (HP:0011814)</a></td><td>1</td></tr>\n",
       "</table>"
      ],
      "text/plain": [
       "<IPython.core.display.HTML object>"
      ]
     },
     "metadata": {},
     "output_type": "display_data"
    }
   ],
   "source": [
    "display(HTML(viewer.hpo_term_counts_table(cohort))) ## Add Labels to output"
   ]
  },
  {
   "cell_type": "markdown",
   "id": "2a72c45a-169a-4526-ab92-d4ffb55c2e52",
   "metadata": {},
   "source": [
    "We will work with the most clinically relevant *SUOX* transcript:"
   ]
  },
  {
   "cell_type": "code",
   "execution_count": 6,
   "id": "7e6b6069-1958-46b8-aa3c-6af2c5c9eb85",
   "metadata": {},
   "outputs": [],
   "source": [
    "tx_id = 'NM_001032386.2'"
   ]
  },
  {
   "cell_type": "code",
   "execution_count": 7,
   "id": "1523f01c-c164-4db5-92c1-36092e95be0d",
   "metadata": {},
   "outputs": [
    {
     "data": {
      "text/html": [
       "<style>\n",
       "\n",
       "table {\n",
       "  border-collapse: collapse; \n",
       "  margin: 25px 0;\n",
       "    font-size: 0.9em;\n",
       "    font-family: sans-serif;\n",
       "    min-width: 400px;\n",
       "    box-shadow: 0 0 20px rgba(0, 0, 0, 0.15);\n",
       "}\n",
       "\n",
       "\n",
       "th {\n",
       "  background-color: #f2f2f2; \n",
       "  border: 1px solid #dddddd; \n",
       "  text-align: left;\n",
       "  padding: 2px;\n",
       "}\n",
       "\n",
       "tr {\n",
       "  border: 1px solid #dddddd; \n",
       "}\n",
       "\n",
       "td {\n",
       "  padding: 2px; \n",
       "  font-weight: bold;\n",
       "}\n",
       "\n",
       "tr:nth-child(even) {\n",
       "  background-color: #f2f2f2;\n",
       "}\n",
       "</style>\n",
       "\n",
       "<table>\n",
       "<tr><td>Variant</td><td>Effect</td><td>Count</td><td>Key</td></tr>\n",
       "<tr><td>c.1200C>G</td><td>STOP_GAINED</td><td>7</td><td>12_56004589_56004589_C_G</td></tr>\n",
       "<tr><td>c.650G>A</td><td>MISSENSE_VARIANT</td><td>3</td><td>12_56004039_56004039_G_A</td></tr>\n",
       "<tr><td>c.1096C>T</td><td>MISSENSE_VARIANT</td><td>3</td><td>12_56004485_56004485_C_T</td></tr>\n",
       "<tr><td>c.1376G>A</td><td>MISSENSE_VARIANT</td><td>3</td><td>12_56004765_56004765_G_A</td></tr>\n",
       "<tr><td>c.1521_1524del</td><td>FRAMESHIFT_VARIANT</td><td>2</td><td>12_56004905_56004909_ATTGT_A</td></tr>\n",
       "<tr><td>c.1549_1574dup</td><td>FRAMESHIFT_VARIANT</td><td>2</td><td>12_56004933_56004933_A_ACAATGTGCAGCCAGACACCGTGGCCC</td></tr>\n",
       "<tr><td>c.1382A>T</td><td>MISSENSE_VARIANT</td><td>2</td><td>12_56004771_56004771_A_T</td></tr>\n",
       "<tr><td>c.884G>A</td><td>MISSENSE_VARIANT</td><td>2</td><td>12_56004273_56004273_G_A</td></tr>\n",
       "</table>\n",
       "<p>Additionally, the following variants were observed 1 or fewer times: \n",
       "c.1280C>A; c.1261C>T; c.182T>C; c.772A>C; c.1126C>T; c.734_737del; c.352C>T; c.1201A>G; c.205G>C; c.427C>A; c.1348T>C; c.1084G>A; c.520del; c.649C>G; c.400_403del; c.1097G>A; c.1355G>A; c.803G>A; c.287dup; c.1136A>G; c.794C>A; c.433del; c.475G>T; c.1187A>G.</p>\n",
       "<p>Use the entry in the \"Key\" column to investigate whether specific variants display genotype-phenotype correlations</p>"
      ],
      "text/plain": [
       "<IPython.core.display.HTML object>"
      ]
     },
     "metadata": {},
     "output_type": "display_data"
    }
   ],
   "source": [
    "display(HTML(viewer.variants_table(cohort, tx_id))) "
   ]
  },
  {
   "cell_type": "markdown",
   "id": "4d16f224-0f8b-4ca3-9b11-2216bce456d1",
   "metadata": {},
   "source": [
    "Group and count the variants according to the predicted functional effect on the transcript of interest:"
   ]
  },
  {
   "cell_type": "code",
   "execution_count": 8,
   "id": "4bd62aef-aede-4cde-9bbf-8d5444bc6127",
   "metadata": {},
   "outputs": [
    {
     "name": "stdout",
     "output_type": "stream",
     "text": [
      "MISSENSE_VARIANT    : 29\n",
      "STOP_GAINED         : 10\n",
      "FRAMESHIFT_VARIANT  : 9\n"
     ]
    }
   ],
   "source": [
    "for ve, count in cohort.list_data_by_tx()[tx_id].items():\n",
    "    print(f'{ve:<20}: {count}')"
   ]
  },
  {
   "cell_type": "markdown",
   "id": "8d88820f-b01f-427c-beac-58a3259b26be",
   "metadata": {},
   "source": [
    "## Configure the analysis\n",
    "\n",
    "We create an analysis runner, a convenience class for running the available analyses."
   ]
  },
  {
   "cell_type": "code",
   "execution_count": 9,
   "id": "3550a9c6-1977-4286-8889-161f3149925b",
   "metadata": {},
   "outputs": [],
   "source": [
    "from genophenocorr.analysis import configure_cohort_analysis\n",
    "from genophenocorr.analysis.predicate import BooleanPredicate\n",
    "\n",
    "analysis = configure_cohort_analysis(cohort, hpo)"
   ]
  },
  {
   "cell_type": "markdown",
   "id": "97b921f2-12d0-4805-acd2-dfd42142528a",
   "metadata": {},
   "source": [
    "## Missense vs. other variants\n",
    "\n",
    "Let's investigate correlation between missense variants vs. other variant effects.\n",
    "\n",
    "The analysis runner prepares an *induced graph* from the HPO terms of the subjects. The induced graph is a `set` of the terms and their ancestors. \n",
    "\n",
    "> This is due to the annotation propagation rule of the ontologies with `is_a` relations (such as HPO) where presence of a term implies presence of its ancestors."
   ]
  },
  {
   "cell_type": "code",
   "execution_count": 10,
   "id": "2629aa7c-d5e9-4287-a7c6-1f8e533dad70",
   "metadata": {},
   "outputs": [],
   "source": [
    "from genophenocorr.model import VariantEffect\n",
    "\n",
    "result = analysis.compare_by_variant_effect(VariantEffect.MISSENSE_VARIANT, tx_id)"
   ]
  },
  {
   "cell_type": "markdown",
   "id": "24f0468e-a3b0-43ca-ab93-a4b1bcc606c3",
   "metadata": {},
   "source": [
    "Now we have `result` with the analysis results.\n",
    "\n",
    "The runner tested each term of the induced graph for genotype-phenotype correlation. The patients are split into a 2x2 contingency table according to having the missense variant (or not) and being annotated with the HPO term (or not).\n",
    "\n",
    "Let's look at one such table:"
   ]
  },
  {
   "cell_type": "code",
   "execution_count": 11,
   "id": "4aa77ed6-dd9f-4689-9cda-f4a6e058f583",
   "metadata": {},
   "outputs": [
    {
     "data": {
      "text/html": [
       "<div>\n",
       "<style scoped>\n",
       "    .dataframe tbody tr th:only-of-type {\n",
       "        vertical-align: middle;\n",
       "    }\n",
       "\n",
       "    .dataframe tbody tr th {\n",
       "        vertical-align: top;\n",
       "    }\n",
       "\n",
       "    .dataframe thead th {\n",
       "        text-align: right;\n",
       "    }\n",
       "</style>\n",
       "<table border=\"1\" class=\"dataframe\">\n",
       "  <thead>\n",
       "    <tr style=\"text-align: right;\">\n",
       "      <th>MISSENSE_VARIANT on NM_001032386.2</th>\n",
       "      <th>No</th>\n",
       "      <th>Yes</th>\n",
       "    </tr>\n",
       "    <tr>\n",
       "      <th>category</th>\n",
       "      <th></th>\n",
       "      <th></th>\n",
       "    </tr>\n",
       "  </thead>\n",
       "  <tbody>\n",
       "    <tr>\n",
       "      <th>No</th>\n",
       "      <td>0</td>\n",
       "      <td>7</td>\n",
       "    </tr>\n",
       "    <tr>\n",
       "      <th>Yes</th>\n",
       "      <td>11</td>\n",
       "      <td>17</td>\n",
       "    </tr>\n",
       "  </tbody>\n",
       "</table>\n",
       "</div>"
      ],
      "text/plain": [
       "MISSENSE_VARIANT on NM_001032386.2  No  Yes\n",
       "category                                   \n",
       "No                                   0    7\n",
       "Yes                                 11   17"
      ]
     },
     "execution_count": 11,
     "metadata": {},
     "output_type": "execute_result"
    }
   ],
   "source": [
    "seizure = hpotk.TermId.from_curie('HP:0001250')\n",
    "result.all_counts.loc[seizure]"
   ]
  },
  {
   "cell_type": "markdown",
   "id": "9fc0cc90-aa0b-4c46-b42d-9e56b173ba5e",
   "metadata": {},
   "source": [
    "We see that `24` (`7 + 17`) subjects had at least one missense variant while `11` had no missense variant.\n",
    "\n",
    "Regarding presence of *Seizure*, we see that `28` (`11 + 17`) subjects were annotated with *Seizure* or one of its descendants, such as *Clonic seizure*, *Motor seizure*, etc.\n",
    "`7` subjects were not annotated with any kind of a *Seizure*."
   ]
  },
  {
   "cell_type": "markdown",
   "id": "8d628a6c-167d-43f2-acd4-5a3110c531a1",
   "metadata": {},
   "source": [
    "We can apply Fisher's exact test to test for significance and we will obtain the following p value:"
   ]
  },
  {
   "cell_type": "code",
   "execution_count": 12,
   "id": "8ffd16b3-ef2b-41e6-987e-a2d1621c43b1",
   "metadata": {},
   "outputs": [
    {
     "name": "stdout",
     "output_type": "stream",
     "text": [
      "p value: 0.07213\n"
     ]
    }
   ],
   "source": [
    "print(f'p value: {result.pvals.loc[seizure]:.5f}')"
   ]
  },
  {
   "cell_type": "markdown",
   "id": "fa11005a-bd48-4ebf-b7db-ccaeb6c99d92",
   "metadata": {},
   "source": [
    "However, since we tested all features of the induced graph, we should apply multiple testing correction."
   ]
  },
  {
   "cell_type": "code",
   "execution_count": 13,
   "id": "67fa3d04-3e7a-4a8a-bf1d-ff20db9836f7",
   "metadata": {},
   "outputs": [
    {
     "name": "stdout",
     "output_type": "stream",
     "text": [
      "Ran 68 tests in total\n"
     ]
    }
   ],
   "source": [
    "print(f'Ran {len(result.pvals)} tests in total')"
   ]
  },
  {
   "cell_type": "markdown",
   "id": "796f87fc-9dc9-47ae-b229-f2e465437b57",
   "metadata": {},
   "source": [
    "By default, we use *Bonferroni* correction:"
   ]
  },
  {
   "cell_type": "code",
   "execution_count": 14,
   "id": "7cbb293b-d201-46c6-835a-794e7e84f8e5",
   "metadata": {},
   "outputs": [
    {
     "name": "stdout",
     "output_type": "stream",
     "text": [
      "After Bonferroni correction: 1.00000\n"
     ]
    }
   ],
   "source": [
    "print(f'After Bonferroni correction: {result.corrected_pvals[seizure]:.5f}')"
   ]
  },
  {
   "cell_type": "markdown",
   "id": "41f9baed-9ce8-43fb-9326-73fca90ac8f0",
   "metadata": {},
   "source": [
    "We can summarize the results of all tests into a data frame. \n",
    "We use `BooleanPredicate.YES` to indicate that we want to see counts of patients *with* the tested phenotype."
   ]
  },
  {
   "cell_type": "code",
   "execution_count": 15,
   "id": "42d7d156-eac5-411b-ae94-fa459bc716cc",
   "metadata": {},
   "outputs": [
    {
     "data": {
      "text/html": [
       "<div>\n",
       "<style scoped>\n",
       "    .dataframe tbody tr th:only-of-type {\n",
       "        vertical-align: middle;\n",
       "    }\n",
       "\n",
       "    .dataframe tbody tr th {\n",
       "        vertical-align: top;\n",
       "    }\n",
       "\n",
       "    .dataframe thead tr th {\n",
       "        text-align: left;\n",
       "    }\n",
       "</style>\n",
       "<table border=\"1\" class=\"dataframe\">\n",
       "  <thead>\n",
       "    <tr>\n",
       "      <th>MISSENSE_VARIANT on NM_001032386.2</th>\n",
       "      <th colspan=\"2\" halign=\"left\">No</th>\n",
       "      <th colspan=\"2\" halign=\"left\">Yes</th>\n",
       "      <th colspan=\"2\" halign=\"left\"></th>\n",
       "    </tr>\n",
       "    <tr>\n",
       "      <th></th>\n",
       "      <th>Count</th>\n",
       "      <th>Percent</th>\n",
       "      <th>Count</th>\n",
       "      <th>Percent</th>\n",
       "      <th>p value</th>\n",
       "      <th>Corrected p value</th>\n",
       "    </tr>\n",
       "  </thead>\n",
       "  <tbody>\n",
       "    <tr>\n",
       "      <th>Seizure [HP:0001250]</th>\n",
       "      <td>11/35</td>\n",
       "      <td>31.428571</td>\n",
       "      <td>17/35</td>\n",
       "      <td>48.571429</td>\n",
       "      <td>0.072129</td>\n",
       "      <td>1.0</td>\n",
       "    </tr>\n",
       "    <tr>\n",
       "      <th>Hypouricemia [HP:0003537]</th>\n",
       "      <td>4/15</td>\n",
       "      <td>26.666667</td>\n",
       "      <td>3/15</td>\n",
       "      <td>20.000000</td>\n",
       "      <td>0.118881</td>\n",
       "      <td>1.0</td>\n",
       "    </tr>\n",
       "    <tr>\n",
       "      <th>Cognitive regression [HP:0034332]</th>\n",
       "      <td>0/25</td>\n",
       "      <td>0.000000</td>\n",
       "      <td>6/25</td>\n",
       "      <td>24.000000</td>\n",
       "      <td>0.129170</td>\n",
       "      <td>1.0</td>\n",
       "    </tr>\n",
       "    <tr>\n",
       "      <th>Increased urinary taurine [HP:0003166]</th>\n",
       "      <td>0/6</td>\n",
       "      <td>0.000000</td>\n",
       "      <td>5/6</td>\n",
       "      <td>83.333333</td>\n",
       "      <td>0.166667</td>\n",
       "      <td>1.0</td>\n",
       "    </tr>\n",
       "    <tr>\n",
       "      <th>Hypotonia [HP:0001252]</th>\n",
       "      <td>3/23</td>\n",
       "      <td>13.043478</td>\n",
       "      <td>12/23</td>\n",
       "      <td>52.173913</td>\n",
       "      <td>0.181896</td>\n",
       "      <td>1.0</td>\n",
       "    </tr>\n",
       "    <tr>\n",
       "      <th>...</th>\n",
       "      <td>...</td>\n",
       "      <td>...</td>\n",
       "      <td>...</td>\n",
       "      <td>...</td>\n",
       "      <td>...</td>\n",
       "      <td>...</td>\n",
       "    </tr>\n",
       "    <tr>\n",
       "      <th>Developmental regression [HP:0002376]</th>\n",
       "      <td>0/6</td>\n",
       "      <td>0.000000</td>\n",
       "      <td>6/6</td>\n",
       "      <td>100.000000</td>\n",
       "      <td>1.000000</td>\n",
       "      <td>1.0</td>\n",
       "    </tr>\n",
       "    <tr>\n",
       "      <th>Increased urine proteinogenic amino acid derivative level [HP:0033097]</th>\n",
       "      <td>0/5</td>\n",
       "      <td>0.000000</td>\n",
       "      <td>5/5</td>\n",
       "      <td>100.000000</td>\n",
       "      <td>1.000000</td>\n",
       "      <td>1.0</td>\n",
       "    </tr>\n",
       "    <tr>\n",
       "      <th>Elevated circulating S-sulfocysteine concentration [HP:0034745]</th>\n",
       "      <td>0/2</td>\n",
       "      <td>0.000000</td>\n",
       "      <td>2/2</td>\n",
       "      <td>100.000000</td>\n",
       "      <td>1.000000</td>\n",
       "      <td>1.0</td>\n",
       "    </tr>\n",
       "    <tr>\n",
       "      <th>Abnormal circulating non-proteinogenic amino acid concentration [HP:0033109]</th>\n",
       "      <td>0/2</td>\n",
       "      <td>0.000000</td>\n",
       "      <td>2/2</td>\n",
       "      <td>100.000000</td>\n",
       "      <td>1.000000</td>\n",
       "      <td>1.0</td>\n",
       "    </tr>\n",
       "    <tr>\n",
       "      <th>Xanthinuria [HP:0010934]</th>\n",
       "      <td>0/11</td>\n",
       "      <td>0.000000</td>\n",
       "      <td>2/11</td>\n",
       "      <td>18.181818</td>\n",
       "      <td>1.000000</td>\n",
       "      <td>1.0</td>\n",
       "    </tr>\n",
       "  </tbody>\n",
       "</table>\n",
       "<p>68 rows × 6 columns</p>\n",
       "</div>"
      ],
      "text/plain": [
       "MISSENSE_VARIANT on NM_001032386.2                     No               Yes  \\\n",
       "                                                    Count    Percent  Count   \n",
       "Seizure [HP:0001250]                                11/35  31.428571  17/35   \n",
       "Hypouricemia [HP:0003537]                            4/15  26.666667   3/15   \n",
       "Cognitive regression [HP:0034332]                    0/25   0.000000   6/25   \n",
       "Increased urinary taurine [HP:0003166]                0/6   0.000000    5/6   \n",
       "Hypotonia [HP:0001252]                               3/23  13.043478  12/23   \n",
       "...                                                   ...        ...    ...   \n",
       "Developmental regression [HP:0002376]                 0/6   0.000000    6/6   \n",
       "Increased urine proteinogenic amino acid deriva...    0/5   0.000000    5/5   \n",
       "Elevated circulating S-sulfocysteine concentrat...    0/2   0.000000    2/2   \n",
       "Abnormal circulating non-proteinogenic amino ac...    0/2   0.000000    2/2   \n",
       "Xanthinuria [HP:0010934]                             0/11   0.000000   2/11   \n",
       "\n",
       "MISSENSE_VARIANT on NM_001032386.2                                        \\\n",
       "                                                       Percent   p value   \n",
       "Seizure [HP:0001250]                                 48.571429  0.072129   \n",
       "Hypouricemia [HP:0003537]                            20.000000  0.118881   \n",
       "Cognitive regression [HP:0034332]                    24.000000  0.129170   \n",
       "Increased urinary taurine [HP:0003166]               83.333333  0.166667   \n",
       "Hypotonia [HP:0001252]                               52.173913  0.181896   \n",
       "...                                                        ...       ...   \n",
       "Developmental regression [HP:0002376]               100.000000  1.000000   \n",
       "Increased urine proteinogenic amino acid deriva...  100.000000  1.000000   \n",
       "Elevated circulating S-sulfocysteine concentrat...  100.000000  1.000000   \n",
       "Abnormal circulating non-proteinogenic amino ac...  100.000000  1.000000   \n",
       "Xanthinuria [HP:0010934]                             18.181818  1.000000   \n",
       "\n",
       "MISSENSE_VARIANT on NM_001032386.2                                    \n",
       "                                                   Corrected p value  \n",
       "Seizure [HP:0001250]                                             1.0  \n",
       "Hypouricemia [HP:0003537]                                        1.0  \n",
       "Cognitive regression [HP:0034332]                                1.0  \n",
       "Increased urinary taurine [HP:0003166]                           1.0  \n",
       "Hypotonia [HP:0001252]                                           1.0  \n",
       "...                                                              ...  \n",
       "Developmental regression [HP:0002376]                            1.0  \n",
       "Increased urine proteinogenic amino acid deriva...               1.0  \n",
       "Elevated circulating S-sulfocysteine concentrat...               1.0  \n",
       "Abnormal circulating non-proteinogenic amino ac...               1.0  \n",
       "Xanthinuria [HP:0010934]                                         1.0  \n",
       "\n",
       "[68 rows x 6 columns]"
      ]
     },
     "execution_count": 15,
     "metadata": {},
     "output_type": "execute_result"
    }
   ],
   "source": [
    "result.summarize(hpo, BooleanPredicate.YES)"
   ]
  },
  {
   "cell_type": "markdown",
   "id": "a5eada61-fea4-4352-8000-8451fbe9f42a",
   "metadata": {},
   "source": [
    "The summary shows patient counts and percentages along with corrected and uncorrected values. \n",
    "The rows are sorted by corrected and uncorrected values in ascending order."
   ]
  },
  {
   "cell_type": "markdown",
   "id": "012b5409-f359-42ff-a8d2-7afc734e5cd2",
   "metadata": {},
   "source": [
    "## Task\n",
    "\n",
    "We are seeking a smarter strategy to reduce the number of tests.\n",
    "\n",
    "### Tune genotype predicate selection\n",
    "\n",
    "First, we want the user to be well informed about the promising genotype predicates. For instance, it makes no sense to test missense variants vs. others if there are no missense variants in the gene.\n",
    "\n",
    "We are developing code for exploratory analysis, including functions that plot variants on transcript and the protein, to inform the genotype predicate selection.\n",
    "\n",
    "### Tune tested phenotypic features\n",
    "\n",
    "Reducing the number of tested phenotypic features should increase the utility of the analysis.\n",
    "\n",
    "One way to approach this is to leverage the ontology hierarchy to limit testing of the non-specific terms, such as *Abnormal nervous system physiology* (HP:0012638), which are unlikely to be helpful to the clinicians/users.\n",
    "\n",
    "Next, we can select multiple testing correction methods that are more appropriate for working with ontology terms. We can probably combine this with an iterative approach, where we start testing the leaves of the induced graph (specific terms, such as *Focal clonic seizure*) and we \"walk\" the graph towards the general terms such as *Abnormal nervous system physiology*. The approach can include early termination if the current term exceeds a threshold (we need to define this better).\n",
    "\n",
    "These are some ideas to start."
   ]
  },
  {
   "cell_type": "markdown",
   "id": "1f3c7795-de4f-4003-a156-5a62ebb7860f",
   "metadata": {},
   "source": [
    "EOF"
   ]
  }
 ],
 "metadata": {
  "kernelspec": {
   "display_name": "Exploratory (Python 3.10)",
   "language": "python",
   "name": "exploratory"
  },
  "language_info": {
   "codemirror_mode": {
    "name": "ipython",
    "version": 3
   },
   "file_extension": ".py",
   "mimetype": "text/x-python",
   "name": "python",
   "nbconvert_exporter": "python",
   "pygments_lexer": "ipython3",
   "version": "3.10.12"
  }
 },
 "nbformat": 4,
 "nbformat_minor": 5
}
