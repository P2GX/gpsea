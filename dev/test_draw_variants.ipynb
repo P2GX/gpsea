{
 "cells": [
  {
   "cell_type": "code",
   "execution_count": 1,
   "id": "70a753d6a4225669",
   "metadata": {
    "ExecuteTime": {
     "end_time": "2024-02-21T13:03:47.738479300Z",
     "start_time": "2024-02-21T13:03:47.731404100Z"
    },
    "collapsed": false,
    "jupyter": {
     "outputs_hidden": false
    }
   },
   "outputs": [],
   "source": [
    "tx_id = 'NM_001032386.2'\n",
    "protein_id = 'NP_001027558.1'"
   ]
  },
  {
   "cell_type": "code",
   "execution_count": 2,
   "id": "7a49258b45c46876",
   "metadata": {
    "ExecuteTime": {
     "end_time": "2024-02-21T13:03:55.325990900Z",
     "start_time": "2024-02-21T13:03:47.738479300Z"
    },
    "collapsed": false,
    "jupyter": {
     "outputs_hidden": false
    }
   },
   "outputs": [
    {
     "name": "stderr",
     "output_type": "stream",
     "text": [
      "/Users/robin/PycharmProjects/genophenocorr/gpc_venv/lib/python3.9/site-packages/urllib3/__init__.py:35: NotOpenSSLWarning: urllib3 v2 only supports OpenSSL 1.1.1+, currently the 'ssl' module is compiled with 'LibreSSL 2.8.3'. See: https://github.com/urllib3/urllib3/issues/3020\n",
      "  warnings.warn(\n",
      "Response.transcripts has 6!=1 items. Choosing the first\n"
     ]
    }
   ],
   "source": [
    "from genophenocorr.model.genome import GRCh38\n",
    "from genophenocorr.preprocessing import VVTranscriptCoordinateService\n",
    "\n",
    "txc_service = VVTranscriptCoordinateService(genome_build=GRCh38)\n",
    "tx_coordinates = txc_service.fetch(tx_id)"
   ]
  },
  {
   "cell_type": "code",
   "execution_count": null,
   "id": "3b9f3c741a2352b5",
   "metadata": {
    "ExecuteTime": {
     "end_time": "2024-02-21T13:03:55.658500400Z",
     "start_time": "2024-02-21T13:03:55.328237400Z"
    },
    "collapsed": false,
    "jupyter": {
     "outputs_hidden": false
    }
   },
   "outputs": [],
   "source": [
    "from genophenocorr.preprocessing import UniprotProteinMetadataService\n",
    "\n",
    "pms = UniprotProteinMetadataService()\n",
    "\n",
    "protein_metas = pms.annotate(protein_id)\n",
    "\n",
    "assert len(protein_metas) == 1\n",
    "protein_meta = protein_metas[0]"
   ]
  },
  {
   "cell_type": "code",
   "execution_count": 5,
   "id": "cf458535b18dc26c",
   "metadata": {
    "ExecuteTime": {
     "end_time": "2024-02-21T13:04:05.189283600Z",
     "start_time": "2024-02-21T13:03:55.672155100Z"
    },
    "collapsed": false,
    "jupyter": {
     "outputs_hidden": false
    }
   },
   "outputs": [
    {
     "name": "stderr",
     "output_type": "stream",
     "text": [
      "Patients Created: 100%|█████████████████████████████████████████████████████████████████████████████████████████████████████████| 35/35 [01:58<00:00,  3.38s/it]\n",
      "Validated under none policy\n",
      "Showing errors and warnings\n",
      "35 phenopacket(s) found at `/Users/robin/PycharmProjects/genophenocorr/dev/../notebooks/SUOX/phenopackets`\n",
      "  patient #0\n",
      "    phenotype-features\n",
      "     warnings:\n",
      "     ·No diseases found.\n",
      "  patient #1\n",
      "    phenotype-features\n",
      "     warnings:\n",
      "     ·No diseases found.\n",
      "  patient #2\n",
      "    phenotype-features\n",
      "     warnings:\n",
      "     ·No diseases found.\n",
      "  patient #3\n",
      "    phenotype-features\n",
      "     warnings:\n",
      "     ·No diseases found.\n",
      "  patient #4\n",
      "    phenotype-features\n",
      "     warnings:\n",
      "     ·No diseases found.\n",
      "  patient #5\n",
      "    phenotype-features\n",
      "     warnings:\n",
      "     ·No diseases found.\n",
      "  patient #6\n",
      "    phenotype-features\n",
      "     warnings:\n",
      "     ·No diseases found.\n",
      "  patient #7\n",
      "    phenotype-features\n",
      "     warnings:\n",
      "     ·No diseases found.\n",
      "  patient #8\n",
      "    phenotype-features\n",
      "     warnings:\n",
      "     ·No diseases found.\n",
      "  patient #9\n",
      "    phenotype-features\n",
      "     warnings:\n",
      "     ·No diseases found.\n",
      "  patient #10\n",
      "    phenotype-features\n",
      "     warnings:\n",
      "     ·No diseases found.\n",
      "  patient #11\n",
      "    phenotype-features\n",
      "     warnings:\n",
      "     ·No diseases found.\n",
      "  patient #12\n",
      "    phenotype-features\n",
      "     warnings:\n",
      "     ·No diseases found.\n",
      "  patient #13\n",
      "    phenotype-features\n",
      "     warnings:\n",
      "     ·No diseases found.\n",
      "  patient #14\n",
      "    phenotype-features\n",
      "     warnings:\n",
      "     ·No diseases found.\n",
      "  patient #15\n",
      "    phenotype-features\n",
      "     warnings:\n",
      "     ·No diseases found.\n",
      "  patient #16\n",
      "    phenotype-features\n",
      "     warnings:\n",
      "     ·No diseases found.\n",
      "  patient #17\n",
      "    phenotype-features\n",
      "     warnings:\n",
      "     ·No diseases found.\n",
      "  patient #18\n",
      "    phenotype-features\n",
      "     warnings:\n",
      "     ·No diseases found.\n",
      "  patient #19\n",
      "    phenotype-features\n",
      "     warnings:\n",
      "     ·No diseases found.\n",
      "  patient #20\n",
      "    phenotype-features\n",
      "     warnings:\n",
      "     ·No diseases found.\n",
      "  patient #21\n",
      "    phenotype-features\n",
      "     warnings:\n",
      "     ·No diseases found.\n",
      "  patient #22\n",
      "    phenotype-features\n",
      "     warnings:\n",
      "     ·No diseases found.\n",
      "  patient #23\n",
      "    phenotype-features\n",
      "     warnings:\n",
      "     ·No diseases found.\n",
      "  patient #24\n",
      "    phenotype-features\n",
      "     warnings:\n",
      "     ·No diseases found.\n",
      "  patient #25\n",
      "    phenotype-features\n",
      "     warnings:\n",
      "     ·No diseases found.\n",
      "  patient #26\n",
      "    phenotype-features\n",
      "     warnings:\n",
      "     ·No diseases found.\n",
      "  patient #27\n",
      "    phenotype-features\n",
      "     warnings:\n",
      "     ·No diseases found.\n",
      "  patient #28\n",
      "    phenotype-features\n",
      "     warnings:\n",
      "     ·No diseases found.\n",
      "  patient #29\n",
      "    phenotype-features\n",
      "     warnings:\n",
      "     ·No diseases found.\n",
      "  patient #30\n",
      "    phenotype-features\n",
      "     warnings:\n",
      "     ·No diseases found.\n",
      "  patient #31\n",
      "    phenotype-features\n",
      "     warnings:\n",
      "     ·No diseases found.\n",
      "  patient #32\n",
      "    phenotype-features\n",
      "     warnings:\n",
      "     ·No diseases found.\n",
      "  patient #33\n",
      "    phenotype-features\n",
      "     warnings:\n",
      "     ·No diseases found.\n",
      "  patient #34\n",
      "    phenotype-features\n",
      "     warnings:\n",
      "     ·No diseases found.\n"
     ]
    },
    {
     "data": {
      "text/plain": [
       "'Loaded 35 samples'"
      ]
     },
     "execution_count": 5,
     "metadata": {},
     "output_type": "execute_result"
    }
   ],
   "source": [
    "import hpotk\n",
    "import os\n",
    "from genophenocorr.preprocessing import load_phenopacket_folder\n",
    "from genophenocorr.preprocessing import configure_caching_cohort_creator\n",
    "from hpotk.validate import ValidationRunner\n",
    "from hpotk.validate import ObsoleteTermIdsValidator, PhenotypicAbnormalityValidator, AnnotationPropagationValidator\n",
    "\n",
    "fpath_hpo = 'https://github.com/obophenotype/human-phenotype-ontology/releases/download/v2023-10-09/hp.json'\n",
    "hpo = hpotk.load_minimal_ontology(fpath_hpo)\n",
    "\n",
    "validation_runner = ValidationRunner(\n",
    "    validators=(\n",
    "        ObsoleteTermIdsValidator(hpo),\n",
    "        PhenotypicAbnormalityValidator(hpo),\n",
    "        AnnotationPropagationValidator(hpo)\n",
    "    ))\n",
    "\n",
    "pc = configure_caching_cohort_creator(hpo, validation_runner=validation_runner)\n",
    "\n",
    "fpath_suox_cohort = os.path.join(os.getcwd(), os.pardir, 'notebooks', 'SUOX', 'phenopackets')\n",
    "cohort = load_phenopacket_folder(fpath_suox_cohort, pc)\n",
    "f'Loaded {len(cohort)} samples'"
   ]
  },
  {
   "cell_type": "code",
   "execution_count": 6,
   "id": "c5abc6b06465c6c1",
   "metadata": {
    "ExecuteTime": {
     "end_time": "2024-02-21T13:04:05.423909300Z",
     "start_time": "2024-02-21T13:04:05.191304900Z"
    },
    "collapsed": false,
    "jupyter": {
     "outputs_hidden": false
    }
   },
   "outputs": [
    {
     "data": {
      "image/png": "[encoded data removed]",
      "text/plain": [
       "<Figure size 2000x2000 with 1 Axes>"
      ]
     },
     "metadata": {},
     "output_type": "display_data"
    }
   ],
   "source": [
    "from genophenocorr.view._draw_variants import VariantsVisualizer\n",
    "viz = VariantsVisualizer()\n",
    "viz.draw_fig(tx_coordinates, protein_meta, cohort)"
   ]
  },
  {
   "cell_type": "code",
   "execution_count": null,
   "id": "0385dd13-2134-4f0f-b5ad-4bc60e88f336",
   "metadata": {},
   "outputs": [],
   "source": []
  }
 ],
 "metadata": {
  "kernelspec": {
   "display_name": "gpc_venv",
   "language": "python",
   "name": "gpc_venv"
  },
  "language_info": {
   "codemirror_mode": {
    "name": "ipython",
    "version": 3
   },
   "file_extension": ".py",
   "mimetype": "text/x-python",
   "name": "python",
   "nbconvert_exporter": "python",
   "pygments_lexer": "ipython3",
   "version": "3.9.6"
  }
 },
 "nbformat": 4,
 "nbformat_minor": 5
}
