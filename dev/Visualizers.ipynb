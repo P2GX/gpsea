{
 "cells": [
  {
   "cell_type": "markdown",
   "metadata": {},
   "source": [
    "**Setup for visualizers**\n",
    "\n",
    "The notebook loads a cohort of patients with mutations in *SUOX*, performs the functional variant annotation, and collates the data into a `Cohort` object."
   ]
  },
  {
   "cell_type": "code",
   "execution_count": 1,
   "metadata": {},
   "outputs": [],
   "source": [
    "%matplotlib inline\n",
    "\n",
    "import os\n",
    "import hpotk\n",
    "\n",
    "hpotk.util.setup_logging()"
   ]
  },
  {
   "cell_type": "markdown",
   "metadata": {},
   "source": [
    "# Setup resources\n"
   ]
  },
  {
   "cell_type": "markdown",
   "metadata": {},
   "source": [
    "## Load HPO\n",
    "\n",
    "Use HPO release *2023-10-09*. The ontology is downloaded from the PURL.\n",
    "\n",
    "> Note: feel free to download the file once and provide the local path, e.g. `/home/joe/path/to/hp.json`."
   ]
  },
  {
   "cell_type": "code",
   "execution_count": 2,
   "metadata": {},
   "outputs": [
    {
     "data": {
      "text/plain": [
       "'2023-10-09'"
      ]
     },
     "execution_count": 2,
     "metadata": {},
     "output_type": "execute_result"
    }
   ],
   "source": [
    "fpath_hpo = 'https://github.com/obophenotype/human-phenotype-ontology/releases/download/v2023-10-09/hp.json'\n",
    "\n",
    "hpo = hpotk.load_minimal_ontology(fpath_hpo)\n",
    "hpo.version"
   ]
  },
  {
   "cell_type": "markdown",
   "metadata": {},
   "source": [
    "# Load samples"
   ]
  },
  {
   "cell_type": "markdown",
   "metadata": {},
   "source": [
    "## Configure patient creator\n",
    "\n",
    "Patient creator transforms phenopackets into `Patient`s - the internal representation of the sample data. \n",
    "\n",
    "The transformation includes checking that the phenotypic features -  the uses HPO to check all phenotypic features are annotated with current HPO terms "
   ]
  },
  {
   "cell_type": "markdown",
   "metadata": {},
   "source": [
    "### Setup phenotypic feature validation\n",
    "\n",
    "We ensure that the phenotypic features of the subjects meet the following validation requirements:\n",
    "- the phenotypic features are represented using current (non-obsolete) HPO term IDs\n",
    "- all phenotypic features are descendants of *Phenotypic abnormality* branch of HPO\n",
    "- the terms do not violate the annotation propagation rule - subjects are not annotated by a term and its ancestor/descendant"
   ]
  },
  {
   "cell_type": "code",
   "execution_count": 3,
   "metadata": {},
   "outputs": [],
   "source": [
    "from hpotk.validate import ValidationRunner\n",
    "from hpotk.validate import ObsoleteTermIdsValidator, PhenotypicAbnormalityValidator, AnnotationPropagationValidator\n",
    "\n",
    "validation_runner = ValidationRunner(\n",
    "    validators=(\n",
    "        ObsoleteTermIdsValidator(hpo),\n",
    "        PhenotypicAbnormalityValidator(hpo),\n",
    "        AnnotationPropagationValidator(hpo)\n",
    "        ))"
   ]
  },
  {
   "cell_type": "code",
   "execution_count": 4,
   "metadata": {},
   "outputs": [],
   "source": [
    "from genophenocorr.preprocessing import configure_caching_patient_creator\n",
    "\n",
    "pc = configure_caching_patient_creator(hpo, validation_runner=validation_runner)"
   ]
  },
  {
   "cell_type": "markdown",
   "metadata": {},
   "source": [
    "## Load phenopackets\n",
    "\n",
    "Walk the directory, find all JSON files, load them into phenopackets, and transform the phenopackets to patients.\n",
    "\n",
    "> Note: the first run takes longer since we must reach out to VEP REST API. However, the subsequent runs use data that we cache in `.genophenocorr_cache` folder next to this notebook."
   ]
  },
  {
   "cell_type": "code",
   "execution_count": 5,
   "metadata": {},
   "outputs": [
    {
     "name": "stderr",
     "output_type": "stream",
     "text": [
      "Patients Created: 100%|██████████| 35/35 [00:00<00:00, 340.95it/s]\n"
     ]
    },
    {
     "data": {
      "text/plain": [
       "'Loaded 35 samples'"
      ]
     },
     "execution_count": 5,
     "metadata": {},
     "output_type": "execute_result"
    }
   ],
   "source": [
    "from genophenocorr.preprocessing import load_phenopacket_folder\n",
    "\n",
    "fpath_suox_cohort = os.path.join(os.getcwd(), os.pardir, 'notebooks', 'SUOX', 'phenopackets')\n",
    "cohort = load_phenopacket_folder(fpath_suox_cohort, pc)\n",
    "f'Loaded {len(cohort)} samples'"
   ]
  },
  {
   "cell_type": "markdown",
   "metadata": {},
   "source": [
    "# Gather data for visualization\n",
    "\n",
    "Here we get the data required for visualizing the variants on selected transcript or protein."
   ]
  },
  {
   "cell_type": "markdown",
   "metadata": {},
   "source": [
    "## Choose the transcript\n",
    "\n",
    "We need to choose the transcript and protein IDs - currently this is done manually but we will find a way how to do this automatically, e.g. using MANE transcript.\n",
    "\n",
    "The MANE Select transcript for *SUOX* is [NM_001032386.2](https://www.genenames.org/data/gene-symbol-report/#!/hgnc_id/HGNC:11460) and the corresponding protein accession ID is `NP_001027558.1`."
   ]
  },
  {
   "cell_type": "code",
   "execution_count": 6,
   "metadata": {},
   "outputs": [],
   "source": [
    "tx_id = 'NM_001032386.2'\n",
    "protein_id = 'NP_001027558.1'"
   ]
  },
  {
   "cell_type": "markdown",
   "metadata": {},
   "source": [
    "## Gather the data for visualization\n",
    "\n",
    "We need to get:\n",
    "- variants\n",
    "- transcript coordinates\n",
    "- protein metadata"
   ]
  },
  {
   "cell_type": "markdown",
   "metadata": {},
   "source": [
    "### Variants\n",
    "\n",
    "Variants are easy, `Cohort` exposes all the variants via the `all_variants` property:"
   ]
  },
  {
   "cell_type": "code",
   "execution_count": 7,
   "metadata": {},
   "outputs": [
    {
     "data": {
      "text/plain": [
       "48"
      ]
     },
     "execution_count": 7,
     "metadata": {},
     "output_type": "execute_result"
    }
   ],
   "source": [
    "variants = cohort.all_variants\n",
    "len(variants)"
   ]
  },
  {
   "cell_type": "code",
   "execution_count": 8,
   "metadata": {},
   "outputs": [
    {
     "data": {
      "text/plain": [
       "Variant(variant_coordinates:VariantCoordinates(region=GenomicRegion(contig=12, start=56004514, end=56004515, strand=+), ref=C, alt=T, change_length=1), tx_annotations:(TranscriptAnnotation(gene_id:SUOX,transcript_id:NM_000456.3,hgvsc_id:NM_000456.3:c.1126C>T,is_preferred:False,variant_effects:(<VariantEffect.MISSENSE_VARIANT: 'SO:0001583'>,),overlapping_exons:(6,),protein_affected:(ProteinMetadata(id=NP_000447.2, label=Sulfite oxidase, mitochondrial, features=(SimpleProteinFeature(type=FeatureType.DOMAIN, info=FeatureInfo(name=Cytochrome b5 heme-binding, start=82, end=161)), SimpleProteinFeature(type=FeatureType.REGION, info=FeatureInfo(name=Hinge, start=165, end=174)), SimpleProteinFeature(type=FeatureType.REGION, info=FeatureInfo(name=Moco domain, start=175, end=401)), SimpleProteinFeature(type=FeatureType.REGION, info=FeatureInfo(name=Homodimerization, start=402, end=538)))),),protein_effect_location:Region(start=375, end=376)), TranscriptAnnotation(gene_id:SUOX,transcript_id:NM_001032386.2,hgvsc_id:NM_001032386.2:c.1126C>T,is_preferred:True,variant_effects:(<VariantEffect.MISSENSE_VARIANT: 'SO:0001583'>,),overlapping_exons:(5,),protein_affected:(ProteinMetadata(id=NP_001027558.1, label=Sulfite oxidase, mitochondrial, features=(SimpleProteinFeature(type=FeatureType.DOMAIN, info=FeatureInfo(name=Cytochrome b5 heme-binding, start=82, end=161)), SimpleProteinFeature(type=FeatureType.REGION, info=FeatureInfo(name=Hinge, start=165, end=174)), SimpleProteinFeature(type=FeatureType.REGION, info=FeatureInfo(name=Moco domain, start=175, end=401)), SimpleProteinFeature(type=FeatureType.REGION, info=FeatureInfo(name=Homodimerization, start=402, end=538)))),),protein_effect_location:Region(start=375, end=376)), TranscriptAnnotation(gene_id:SUOX,transcript_id:NM_001032387.2,hgvsc_id:NM_001032387.2:c.1126C>T,is_preferred:False,variant_effects:(<VariantEffect.MISSENSE_VARIANT: 'SO:0001583'>,),overlapping_exons:(4,),protein_affected:(ProteinMetadata(id=NP_001027559.1, label=Sulfite oxidase, mitochondrial, features=(SimpleProteinFeature(type=FeatureType.DOMAIN, info=FeatureInfo(name=Cytochrome b5 heme-binding, start=82, end=161)), SimpleProteinFeature(type=FeatureType.REGION, info=FeatureInfo(name=Hinge, start=165, end=174)), SimpleProteinFeature(type=FeatureType.REGION, info=FeatureInfo(name=Moco domain, start=175, end=401)), SimpleProteinFeature(type=FeatureType.REGION, info=FeatureInfo(name=Homodimerization, start=402, end=538)))),),protein_effect_location:Region(start=375, end=376)), TranscriptAnnotation(gene_id:IKZF4,transcript_id:NM_001351089.2,hgvsc_id:None,is_preferred:False,variant_effects:(<VariantEffect.UPSTREAM_GENE_VARIANT: 'SO:0001631'>,),overlapping_exons:None,protein_affected:(),protein_effect_location:None), TranscriptAnnotation(gene_id:IKZF4,transcript_id:NM_001351091.2,hgvsc_id:None,is_preferred:False,variant_effects:(<VariantEffect.UPSTREAM_GENE_VARIANT: 'SO:0001631'>,),overlapping_exons:None,protein_affected:(),protein_effect_location:None)), genotypes:Genotypes(['individual_5_PMID_12112661=0/1']))"
      ]
     },
     "execution_count": 8,
     "metadata": {},
     "output_type": "execute_result"
    }
   ],
   "source": [
    "next(iter(variants))"
   ]
  },
  {
   "cell_type": "markdown",
   "metadata": {},
   "source": [
    "### Transcript coordinates\n",
    "\n",
    "Transcript coordinates can be fetched from Variant Validator API:"
   ]
  },
  {
   "cell_type": "code",
   "execution_count": 9,
   "metadata": {},
   "outputs": [
    {
     "data": {
      "text/plain": [
       "TranscriptCoordinates(identifier=NM_001032386.2, region=GenomicRegion(contig=12, start=55997275, end=56005525, strand=+))"
      ]
     },
     "execution_count": 9,
     "metadata": {},
     "output_type": "execute_result"
    }
   ],
   "source": [
    "from genophenocorr.model.genome import GRCh38\n",
    "from genophenocorr.preprocessing import VVTranscriptCoordinateService\n",
    "\n",
    "txc_service = VVTranscriptCoordinateService(genome_build=GRCh38)\n",
    "tx_coordinates = txc_service.fetch(tx_id)\n",
    "tx_coordinates"
   ]
  },
  {
   "cell_type": "markdown",
   "metadata": {},
   "source": [
    "The `TranscriptCoordinates` object knows about the number of coding bases and aminoacid codons. \n",
    "\n",
    "Note, the counts of coding bases and codons do *not* include the termination codon."
   ]
  },
  {
   "cell_type": "code",
   "execution_count": 10,
   "metadata": {},
   "outputs": [
    {
     "name": "stdout",
     "output_type": "stream",
     "text": [
      "NM_001032386.2 has 1,635 coding bases\n",
      "NM_001032386.2 has 545 codons\n"
     ]
    }
   ],
   "source": [
    "print(f'{tx_id} has {tx_coordinates.get_coding_base_count():,} coding bases')\n",
    "print(f'{tx_id} has {tx_coordinates.get_codon_count():,} codons')"
   ]
  },
  {
   "cell_type": "markdown",
   "metadata": {},
   "source": [
    "We can get the UTR regions (both 5' and 3') as well as the CDS regions.\n",
    "\n",
    "Note, for simplicity, the CDS regions include *both* initiation and termination codons!\n",
    "\n",
    "5' UTR regions:"
   ]
  },
  {
   "cell_type": "code",
   "execution_count": 11,
   "metadata": {},
   "outputs": [
    {
     "name": "stdout",
     "output_type": "stream",
     "text": [
      "55,997,275-55,997,339\n",
      "55,997,614-55,997,723\n",
      "56,002,211-56,002,221\n"
     ]
    }
   ],
   "source": [
    "for utr in tx_coordinates.get_five_prime_utrs():\n",
    "    print(f'{utr.start:,}-{utr.end:,}')"
   ]
  },
  {
   "cell_type": "markdown",
   "metadata": {},
   "source": [
    "CDS regions:"
   ]
  },
  {
   "cell_type": "code",
   "execution_count": 12,
   "metadata": {},
   "outputs": [
    {
     "name": "stdout",
     "output_type": "stream",
     "text": [
      "56,002,221-56,002,271\n",
      "56,002,542-56,002,720\n",
      "56,003,617-56,005,027\n"
     ]
    }
   ],
   "source": [
    "for cds in tx_coordinates.get_cds_regions():\n",
    "    print(f'{cds.start:,}-{cds.end:,}')"
   ]
  },
  {
   "cell_type": "markdown",
   "metadata": {},
   "source": [
    "3' UTR regions"
   ]
  },
  {
   "cell_type": "code",
   "execution_count": 13,
   "metadata": {},
   "outputs": [
    {
     "name": "stdout",
     "output_type": "stream",
     "text": [
      "56,005,027-56,005,525\n"
     ]
    }
   ],
   "source": [
    "for utr in tx_coordinates.get_three_prime_utrs():\n",
    "    print(f'{utr.start:,}-{utr.end:,}')"
   ]
  },
  {
   "cell_type": "markdown",
   "metadata": {},
   "source": [
    "### Protein metadata\n",
    "\n",
    "Last, we fetch the protein metadata from Uniprot.\n",
    "\n",
    "The significance of the warning that is logged is unclear to me at this time. We need to investigate."
   ]
  },
  {
   "cell_type": "code",
   "execution_count": 14,
   "metadata": {},
   "outputs": [
    {
     "data": {
      "text/plain": [
       "ProteinMetadata(id=NP_001027558.1, label=Sulfite oxidase, mitochondrial, features=(SimpleProteinFeature(type=FeatureType.DOMAIN, info=FeatureInfo(name=Cytochrome b5 heme-binding, start=82, end=161)), SimpleProteinFeature(type=FeatureType.REGION, info=FeatureInfo(name=Hinge, start=165, end=174)), SimpleProteinFeature(type=FeatureType.REGION, info=FeatureInfo(name=Moco domain, start=175, end=401)), SimpleProteinFeature(type=FeatureType.REGION, info=FeatureInfo(name=Homodimerization, start=402, end=538))))"
      ]
     },
     "execution_count": 14,
     "metadata": {},
     "output_type": "execute_result"
    }
   ],
   "source": [
    "from genophenocorr.preprocessing import UniprotProteinMetadataService\n",
    "\n",
    "pms = UniprotProteinMetadataService()\n",
    "\n",
    "protein_metas = pms.annotate(protein_id)\n",
    "\n",
    "assert len(protein_metas) == 1\n",
    "protein_meta = protein_metas[0]\n",
    "protein_meta"
   ]
  },
  {
   "cell_type": "markdown",
   "metadata": {},
   "source": [
    "We get metadata with 4 features (1 domain and 3 regions), which is in line with the Uniprot [Family & Domains section](https://www.uniprot.org/uniprotkb/P51687/entry#family_and_domains)."
   ]
  },
  {
   "cell_type": "code",
   "execution_count": 15,
   "metadata": {},
   "outputs": [
    {
     "name": "stdout",
     "output_type": "stream",
     "text": [
      "name: Cytochrome b5 heme-binding, type: FeatureType.DOMAIN, start: 82, end: 161, \n",
      "name: Hinge, type: FeatureType.REGION, start: 165, end: 174, \n",
      "name: Moco domain, type: FeatureType.REGION, start: 175, end: 401, \n",
      "name: Homodimerization, type: FeatureType.REGION, start: 402, end: 538, \n"
     ]
    }
   ],
   "source": [
    "for feature in protein_meta.protein_features:\n",
    "    print(f'name: {feature.info.name}, type: {feature.feature_type}, start: {feature.info.start}, end: {feature.info.end}, ')"
   ]
  },
  {
   "cell_type": "markdown",
   "metadata": {},
   "source": [
    "# Variant transcript protein figure\n",
    "\n",
    "## Background\n",
    "\n",
    "*Gene* is a genomic region that has some functional relevance. Usually, this is because the region includes DNA sequence that encodes a protein product. The information for protein synthesis is encoded in the sequence of DNA nucleotides, one of four letters of the DNA alphabet: `A`, `C`, `G`, `T`. Per [central dogma of molecular biology](https://en.wikipedia.org/wiki/Central_dogma_of_molecular_biology), the information flows from gene to protein. Gene is first transcribed into precursor messenger RNA (pre-mRNA), pre-mRNA undergoes splicing to remove non-coding regions *introns*, resulting in mature messenger RNA (mRNA) that (mostly) consists of coding *exons*. \n",
    "\n",
    "However, splicing is not deterministic, and due to several reasons, it can produce several versions of mRNA from one pre-mRNA sequence that encode different protein isoforms. We denote the alternate mRNA versions as *transcripts*, and, depending on splicing, one gene can produce `1..m` transcripts.\n",
    "\n",
    "After splicing, the sequence of the mature mRNA is translated into a protein sequence. The protein alphabet includes 21 letters - aminoacids the maping between DNA and protein alphabets is dictated by the [codon table](https://en.wikipedia.org/wiki/DNA_and_RNA_codon_tables) (just for reference, no need to study deeper) where *codon* is a triplet of DNA letters that correspond to one protein letter.\n",
    "\n",
    "There is one more detail left to discuss. The mRNA includes two *untranslated regions* (UTRs), one UTR on each end of mRNA molecule. The UTR at the start is denoted as 5' (read five prime) and the UTR at the end is called 3' (three prime). The UTRs do not encode protein sequence, so, we do not want to plot them.\n",
    "\n",
    "So, that's about it for background. Now, let me show how to get the information from our domain model."
   ]
  },
  {
   "cell_type": "markdown",
   "metadata": {},
   "source": [
    "## Transcript\n",
    "\n",
    "In our domain model, we ask the user to choose the desired transcript by providing transcript ID:"
   ]
  },
  {
   "cell_type": "code",
   "execution_count": 16,
   "metadata": {},
   "outputs": [
    {
     "data": {
      "text/plain": [
       "'NM_001032386.2'"
      ]
     },
     "execution_count": 16,
     "metadata": {},
     "output_type": "execute_result"
    }
   ],
   "source": [
    "tx_id"
   ]
  },
  {
   "cell_type": "markdown",
   "metadata": {},
   "source": [
    "Thanks to the ID, our app can fetch the \"anatomy\" of the transcript - the coordinates of exon regions. The coordinates were fetched above so I'll only reuse `tx_coordinates` here:"
   ]
  },
  {
   "cell_type": "code",
   "execution_count": 17,
   "metadata": {},
   "outputs": [
    {
     "name": "stdout",
     "output_type": "stream",
     "text": [
      "Start\tEnd\tLength\n",
      "55,997,275\t55,997,339\t64\n",
      "55,997,614\t55,997,723\t109\n",
      "56,002,211\t56,002,271\t60\n",
      "56,002,542\t56,002,720\t178\n",
      "56,003,617\t56,005,525\t1908\n"
     ]
    }
   ],
   "source": [
    "print('Start\\tEnd\\tLength')\n",
    "for exon in tx_coordinates.exons:\n",
    "    print(f'{exon.start:,}\\t{exon.end:,}\\t{len(exon)}')"
   ]
  },
  {
   "cell_type": "markdown",
   "metadata": {},
   "source": [
    "We get an instance of `TranscriptCoordinates` that has `exons` property. The property provides a sequence of `genophenocorr.model.genome.GenomicRegion`s that correspond to exon regions.\n",
    "\n",
    "This transcript has 5 exons. Note that the exons are *not* consecutive - they are separated by introns (not in the model). The exons consist of the coding sequence regions (CDS) and UTRs.\n",
    "\n",
    "We can get the CDS regions by calling `get_cds_regions()`:"
   ]
  },
  {
   "cell_type": "code",
   "execution_count": 18,
   "metadata": {},
   "outputs": [
    {
     "name": "stdout",
     "output_type": "stream",
     "text": [
      "Start\tEnd\tLength\n",
      "56,002,221\t56,002,271\t50\n",
      "56,002,542\t56,002,720\t178\n",
      "56,003,617\t56,005,027\t1410\n"
     ]
    }
   ],
   "source": [
    "print('Start\\tEnd\\tLength')\n",
    "for cds in tx_coordinates.get_cds_regions():\n",
    "    print(f'{cds.start:,}\\t{cds.end:,}\\t{len(cds)}')"
   ]
  },
  {
   "cell_type": "markdown",
   "metadata": {},
   "source": [
    "Same as above, we iterate through `GenomicRegion`s, but they correspond to CDS this time. Note that only 3 exons of this transcript include coding sequence. The entire first 2 exons plus the first 10 bases of the 3rd exon represent the 5'UTR. The 3'UTR spans the last 498 bases (`56,005,525 - 56,005,027 = 498`).\n",
    "\n",
    "Note that the sum of CDS lengths is always be divisible by 3:"
   ]
  },
  {
   "cell_type": "code",
   "execution_count": 19,
   "metadata": {},
   "outputs": [],
   "source": [
    "assert sum(len(cds) for cds in tx_coordinates.get_cds_regions()) % 3 == 0, \"CDS must be divisible by 3!\""
   ]
  },
  {
   "cell_type": "markdown",
   "metadata": {},
   "source": [
    "The sum divided by 3 corresponds to the codon count. The last codon ([stop codon](https://en.wikipedia.org/wiki/Stop_codon)) does not encode an aminoacid. Therefore, we can calculate the number of codons that encode the protein aminoacids `aa_count` as follows:"
   ]
  },
  {
   "cell_type": "code",
   "execution_count": 20,
   "metadata": {},
   "outputs": [
    {
     "data": {
      "text/plain": [
       "545.0"
      ]
     },
     "execution_count": 20,
     "metadata": {},
     "output_type": "execute_result"
    }
   ],
   "source": [
    "codon_count = sum(len(cds) for cds in tx_coordinates.get_cds_regions()) / 3\n",
    "aa_count = codon_count - 1\n",
    "aa_count"
   ]
  },
  {
   "cell_type": "markdown",
   "metadata": {},
   "source": [
    "The transcript encodes a protein that consists of 545 aminoacids.\n",
    "\n",
    "You don't have to compute these by hand, `TxCoordinates` provides some convenience here:"
   ]
  },
  {
   "cell_type": "code",
   "execution_count": 21,
   "metadata": {},
   "outputs": [
    {
     "name": "stdout",
     "output_type": "stream",
     "text": [
      "N coding bases: 1635\n",
      "N coding codons (aminoacids): 545\n"
     ]
    }
   ],
   "source": [
    "print('N coding bases:', tx_coordinates.get_coding_base_count())\n",
    "print('N coding codons (aminoacids):', tx_coordinates.get_codon_count())"
   ]
  },
  {
   "cell_type": "markdown",
   "metadata": {},
   "source": [
    "## Protein\n",
    "\n",
    "Let's discuss the protein features.\n",
    "\n",
    "Genophenocorr knows that `NM_001032386.2` transcript corresponds to `NP_001027558.1` protein and it can fetch the corresponding metadata:"
   ]
  },
  {
   "cell_type": "code",
   "execution_count": 22,
   "metadata": {},
   "outputs": [
    {
     "name": "stdout",
     "output_type": "stream",
     "text": [
      "Protein ID: NP_001027558.1\n"
     ]
    },
    {
     "data": {
      "text/plain": [
       "ProteinMetadata(id=NP_001027558.1, label=Sulfite oxidase, mitochondrial, features=(SimpleProteinFeature(type=FeatureType.DOMAIN, info=FeatureInfo(name=Cytochrome b5 heme-binding, start=82, end=161)), SimpleProteinFeature(type=FeatureType.REGION, info=FeatureInfo(name=Hinge, start=165, end=174)), SimpleProteinFeature(type=FeatureType.REGION, info=FeatureInfo(name=Moco domain, start=175, end=401)), SimpleProteinFeature(type=FeatureType.REGION, info=FeatureInfo(name=Homodimerization, start=402, end=538))))"
      ]
     },
     "execution_count": 22,
     "metadata": {},
     "output_type": "execute_result"
    }
   ],
   "source": [
    "print('Protein ID:', protein_id)\n",
    "protein_meta"
   ]
  },
  {
   "cell_type": "markdown",
   "metadata": {},
   "source": [
    "`genophenocorr.model.ProteinMetadata` knows about the protein anatomy.\n",
    "\n",
    "The protein has an identifier and a human-readable label."
   ]
  },
  {
   "cell_type": "code",
   "execution_count": 23,
   "metadata": {},
   "outputs": [
    {
     "name": "stdout",
     "output_type": "stream",
     "text": [
      "NP_001027558.1\n",
      "Sulfite oxidase, mitochondrial\n"
     ]
    }
   ],
   "source": [
    "print(protein_meta.protein_id)\n",
    "print(protein_meta.label)"
   ]
  },
  {
   "cell_type": "markdown",
   "metadata": {},
   "source": [
    "The protein metadata includes features - protein regions that were annotated with some useful information.\n",
    "\n",
    "All features know about their location within the aminoacid sequence. There is `info` property that exposes `region` property. \n",
    "The `region` has `start` and `end` that denote the coordinates of the aminoacids spanned by the feature:"
   ]
  },
  {
   "cell_type": "code",
   "execution_count": 24,
   "metadata": {},
   "outputs": [
    {
     "name": "stdout",
     "output_type": "stream",
     "text": [
      "Name\tStart\tEnd\tLength\n",
      "Cytochrome b5 heme-binding\t82\t161\t79\n",
      "Hinge\t165\t174\t9\n",
      "Moco domain\t175\t401\t226\n",
      "Homodimerization\t402\t538\t136\n"
     ]
    }
   ],
   "source": [
    "print('Name', 'Start', 'End', 'Length', sep='\\t')\n",
    "for pm in protein_meta.protein_features:\n",
    "    info = pm.info\n",
    "    region = info.region\n",
    "    print(info.name, region.start, region.end, len(region), sep='\\t')"
   ]
  },
  {
   "cell_type": "markdown",
   "metadata": {},
   "source": [
    "In addition, the features can be of different types. Our data model includes protein *repeats*, *motifs*, *domains*, protein *regions* (see `FeatureType` enum). Not all proteins have been assigned with all feature types, and here we only have domains and regions."
   ]
  },
  {
   "cell_type": "code",
   "execution_count": 25,
   "metadata": {},
   "outputs": [
    {
     "data": {
      "text/plain": [
       "(SimpleProteinFeature(type=FeatureType.DOMAIN, info=FeatureInfo(name=Cytochrome b5 heme-binding, start=82, end=161)),\n",
       " SimpleProteinFeature(type=FeatureType.REGION, info=FeatureInfo(name=Hinge, start=165, end=174)),\n",
       " SimpleProteinFeature(type=FeatureType.REGION, info=FeatureInfo(name=Moco domain, start=175, end=401)),\n",
       " SimpleProteinFeature(type=FeatureType.REGION, info=FeatureInfo(name=Homodimerization, start=402, end=538)))"
      ]
     },
     "execution_count": 25,
     "metadata": {},
     "output_type": "execute_result"
    }
   ],
   "source": [
    "protein_meta.protein_features"
   ]
  },
  {
   "cell_type": "markdown",
   "metadata": {},
   "source": [
    "So, that's it for the background. Now, let's return to the figure."
   ]
  },
  {
   "attachments": {
    "image.png": {
     "image/png": "[encoded data removed]"
    }
   },
   "cell_type": "markdown",
   "metadata": {},
   "source": [
    "## The figure\n",
    "\n",
    "Let's discuss the requirements of the variant transcript protein figure. I'll use your initial figure from the issue as a reference:\n",
    "\n",
    "![image.png](attachment:image.png)"
   ]
  },
  {
   "cell_type": "markdown",
   "metadata": {},
   "source": [
    "The plot consists of 2 tracks: transcript and protein. The transcript track consists of adjacent adjacent blue/light blue boxes. The protein track features gray background with an overlay of colored boxes. The variant locations are depicted using lollipop markers. We can tweak the lollipop color and the diameter to represent variant properties."
   ]
  },
  {
   "cell_type": "markdown",
   "metadata": {},
   "source": [
    "## Main figure\n",
    "\n",
    "The figure should have a title. The title should include the transcript and protein accessions, and probably also the protein name:"
   ]
  },
  {
   "cell_type": "code",
   "execution_count": 26,
   "metadata": {},
   "outputs": [
    {
     "data": {
      "text/plain": [
       "('NM_001032386.2', 'NP_001027558.1', 'Sulfite oxidase, mitochondrial')"
      ]
     },
     "execution_count": 26,
     "metadata": {},
     "output_type": "execute_result"
    }
   ],
   "source": [
    "tx_coordinates.identifier, protein_meta.protein_id, protein_meta.label"
   ]
  },
  {
   "cell_type": "markdown",
   "metadata": {},
   "source": [
    "## Transcript track\n",
    "\n",
    "The transcript track consists of adjacent boxes that represent CDS regions only. We do *not* plot UTRs or introns.\n",
    "\n",
    "In the context of *SUOX*, the track should include 3 boxes with widths that are proportionate to CDS region lengths:"
   ]
  },
  {
   "cell_type": "code",
   "execution_count": 27,
   "metadata": {},
   "outputs": [
    {
     "data": {
      "text/plain": [
       "[50, 178, 1410]"
      ]
     },
     "execution_count": 27,
     "metadata": {},
     "output_type": "execute_result"
    }
   ],
   "source": [
    "widths = [len(cds) for cds in tx_coordinates.get_cds_regions()]\n",
    "widths"
   ]
  },
  {
   "cell_type": "markdown",
   "metadata": {},
   "source": [
    "As an addition to the existing track, we should include CDS region number, unless the box width is insufficient to accommodate the number. We should use 1-based numbering to make this user friendly. \n",
    "\n",
    "So, `1`, `2`, `3` in this case.\n",
    "\n",
    "That's it for the transcript track."
   ]
  },
  {
   "cell_type": "markdown",
   "metadata": {},
   "source": [
    "## Protein track\n",
    "\n",
    "Protein track is somwhat more elaborate.\n",
    "\n",
    "The track has grey region that spans the entire protein sequence. In our case, it corresponds to `545` aminoacids. \n",
    "\n",
    "Note, due to the aminoacid length, the coordinates of the grey region span $[0, 545)$. Any feature that extends beyond these coordinates is a bug. It should generally not happen, but if it does, it is a hard error, you must raise an exception with enough context to allow the user to fix the input, and abort the drawing."
   ]
  },
  {
   "cell_type": "code",
   "execution_count": 28,
   "metadata": {},
   "outputs": [
    {
     "data": {
      "text/plain": [
       "545"
      ]
     },
     "execution_count": 28,
     "metadata": {},
     "output_type": "execute_result"
    }
   ],
   "source": [
    "tx_coordinates.get_codon_count()"
   ]
  },
  {
   "cell_type": "markdown",
   "metadata": {},
   "source": [
    "We must ensure that the grey region is perfectly aligned with the transcript track.\n",
    "\n",
    "The grey region is overlaid with boxes that correspond to protein features. As stated above, each feature has the coordinates with respect to the entire protein (gray region):"
   ]
  },
  {
   "cell_type": "code",
   "execution_count": 29,
   "metadata": {},
   "outputs": [
    {
     "name": "stdout",
     "output_type": "stream",
     "text": [
      "Region(start=82, end=161)\n",
      "Region(start=165, end=174)\n",
      "Region(start=175, end=401)\n",
      "Region(start=402, end=538)\n"
     ]
    }
   ],
   "source": [
    "for pf in protein_meta.protein_features:\n",
    "    print(pf.info.region)"
   ]
  },
  {
   "cell_type": "markdown",
   "metadata": {},
   "source": [
    "So, in this example, we need to draw 4 boxes located at the corresponding regions. I believe that the boxes will never overlap, they should be, at most, adjacent.\n",
    "\n",
    "> I recommend adding a check that the features do not overlap and raising an exception if they do.\n",
    "\n",
    "We need to inform the user about the feature type (`genophenocorr.model.FeatureType`). One way of doing this is to use different colors but feel free to do whatever you like:"
   ]
  },
  {
   "cell_type": "code",
   "execution_count": 30,
   "metadata": {},
   "outputs": [
    {
     "name": "stdout",
     "output_type": "stream",
     "text": [
      "FeatureType.DOMAIN\n",
      "FeatureType.REGION\n",
      "FeatureType.REGION\n",
      "FeatureType.REGION\n"
     ]
    }
   ],
   "source": [
    "for pf in protein_meta.protein_features:\n",
    "    print(pf.feature_type)"
   ]
  },
  {
   "cell_type": "markdown",
   "metadata": {},
   "source": [
    "We should annotate the boxes with the feature name if the box size permits:"
   ]
  },
  {
   "cell_type": "code",
   "execution_count": 31,
   "metadata": {},
   "outputs": [
    {
     "name": "stdout",
     "output_type": "stream",
     "text": [
      "Cytochrome b5 heme-binding\n",
      "Hinge\n",
      "Moco domain\n",
      "Homodimerization\n"
     ]
    }
   ],
   "source": [
    "for pf in protein_meta.protein_features:\n",
    "    print(pf.info.name)"
   ]
  },
  {
   "cell_type": "markdown",
   "metadata": {},
   "source": [
    "That's it for the protein representation."
   ]
  },
  {
   "cell_type": "markdown",
   "metadata": {},
   "source": [
    "## Variants\n",
    "\n",
    "We need to show the location and attributes of variants found in the patient cohort. In principle, the variants could be drawn on either or both of the tracks. However, let's focus on protein track for now.\n",
    "\n",
    "First, a word of caution. Always think of a variant as of a *region* and not a *point*. After all, each point is a region with length `1`, right? Unlike protein features or CDS regions, the variant regions can overlap. Most of the time we will work with short variants and we can make some simplifications, but we may need to tweak this in future, so please keep this in mind.\n",
    "\n",
    "Getting the protein regions affected by the variants is a bit convoluted. Remember, the variant has information with respect to each transcript of the gene. In case of *SUOX*, the alternative splicing can produce x transcripts. So, we retrieve the annotation corresponding to the transcript of choice and then access the protein region. I show how to do this for the first 5 variants for simplicity:"
   ]
  },
  {
   "cell_type": "code",
   "execution_count": 32,
   "metadata": {},
   "outputs": [
    {
     "name": "stdout",
     "output_type": "stream",
     "text": [
      "Region(start=375, end=376)\n",
      "Region(start=216, end=217)\n",
      "Region(start=361, end=362)\n",
      "Region(start=505, end=507)\n",
      "Region(start=294, end=295)\n"
     ]
    }
   ],
   "source": [
    "tx_anns = []\n",
    "for i, v in enumerate(variants):\n",
    "    if i == 5:\n",
    "        break\n",
    "    tx_ann = None\n",
    "    for ann in v.tx_annotations:\n",
    "        if ann.transcript_id == tx_id:\n",
    "            tx_ann = ann\n",
    "            break\n",
    "    if tx_ann is None:\n",
    "        raise ValueError(f'The transcript annotation for {tx_id} was not found!')\n",
    "    else:\n",
    "        tx_anns.append(tx_ann)\n",
    "\n",
    "for ann in tx_anns:\n",
    "    print(ann.protein_effect_location)"
   ]
  },
  {
   "cell_type": "markdown",
   "metadata": {},
   "source": [
    "We got the variant regions. In four out of five casese, the variant affects one aminoacid. However, the second variant spans *two* aminoacids!\n",
    "\n",
    "The question is what is the best way to draw variants as regions. I am not sure this can be done easily with lollipops. However, to keep things simple, we can draw the lollipop at the start coordinate."
   ]
  },
  {
   "cell_type": "markdown",
   "metadata": {},
   "source": [
    "Next, we need to encode the variant effects. Each variant can have `1..m` effects on a transcript. The effects are members of the `genophenocorr.model.VariantEffect` enum. \n",
    "\n",
    "For simplicity, let's just choose the first effect and we can update this strategy later:"
   ]
  },
  {
   "cell_type": "code",
   "execution_count": 33,
   "metadata": {},
   "outputs": [
    {
     "name": "stdout",
     "output_type": "stream",
     "text": [
      "missense_variant\n",
      "missense_variant\n",
      "missense_variant\n",
      "frameshift_variant\n",
      "missense_variant\n"
     ]
    }
   ],
   "source": [
    "for ann in tx_anns:\n",
    "    print(ann.variant_effects[0])"
   ]
  },
  {
   "cell_type": "markdown",
   "metadata": {},
   "source": [
    "Last, some variants occurr more frequently than the others. In general, the variant count should be in range $[1, n)$ where $n$ is the number of patients in the cohort. We should be able to communicate the variant frequency to the users.\n",
    "\n",
    "In your figure, you do this using the lollipop color. I think it's OK.\n",
    "\n",
    "So, these are the main requirements."
   ]
  },
  {
   "cell_type": "markdown",
   "metadata": {},
   "source": [
    "## Nice to have\n",
    "\n",
    "There are several things that would be nice to have, depending on how difficult their implementation would be. I list a few in arbitrary order (no precedence).\n",
    "\n",
    "### Variant overlap\n",
    "\n",
    "Currently, the lollipops overlap and it may be hard to see all the data.\n",
    "\n",
    "Ideally, the lollipops should not overlap. However, I am not sure how easy it would be to implement a layout algorithm to ensure there is no overlap.\n",
    "\n",
    "### View point\n",
    "\n",
    "Some medically releveant genes are very large. For instance, the protein *dystrophin* encoded by [*DMD*](https://www.genenames.org/data/gene-symbol-report/#!/hgnc_id/HGNC:2928) gene consists of 79 exons. The CDS includes ~11 thousand nucleotides. Dystrophin is, however, medically relevant and showing variants on such a large gene can bring up some issues.\n",
    "\n",
    "It could be helpful to be able to limit the picture on some part of the gene. Say, only the protein region $[a,b)$ or the exons $[a,b)$, ...\n",
    "\n",
    "### Popup on hover\n",
    "\n",
    "Is it possible to add information that shows on mouse cursor hover? We could show lots of useful info at many places. However, I am not sure how easy this would be. We intend to provide the figure through Jupyter, so the popup functionality would have to work there.\n",
    "\n",
    "### Scales\n",
    "\n",
    "Right now the plot includes two scales - `0 - 1390` and `# Markers`. I think the aminoacid scale is useful, and we should add a similar scale to the transcript plot to represent nulceotides, if possible. \n",
    "\n",
    "`# Markers` is great as well. It should probably start at `1`, it would be great to include a bunch of major ticks, and perhaps also horizontal grid lines? That would be SUPER cool.. :)\n",
    "\n",
    "### API\n",
    "\n",
    "Right now we make show certain things on the figure. For instance, we color the lollipop based on variant effect. However, I can imagine abstracting the coloring scheme away such that we can color the lollipop in arbitrary fashion (e.g. missense = red, others = blue). The same applies to other variant attributes, such as lollipop size and height.\n",
    "\n",
    "It would be great if the coloring scheme (and others) would be adjustable. This would allow us to provide a bunch of useful presets but also letting the users to do whatevery they wish.\n",
    "\n",
    "\n",
    "This is all I can think of right now.\n",
    "\n",
    "---\n",
    "\n",
    "To conclude, the figure is really amazing! I hope this is useful and let's stay in touch!"
   ]
  }
 ],
 "metadata": {
  "kernelspec": {
   "display_name": "exploratory",
   "language": "python",
   "name": "python3"
  },
  "language_info": {
   "codemirror_mode": {
    "name": "ipython",
    "version": 3
   },
   "file_extension": ".py",
   "mimetype": "text/x-python",
   "name": "python",
   "nbconvert_exporter": "python",
   "pygments_lexer": "ipython3",
   "version": "3.10.12"
  }
 },
 "nbformat": 4,
 "nbformat_minor": 2
}
