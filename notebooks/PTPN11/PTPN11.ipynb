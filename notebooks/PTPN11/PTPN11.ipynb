{
 "cells": [
  {
   "cell_type": "markdown",
   "id": "e2506e0b",
   "metadata": {},
   "source": [
    "# PTPN11\n",
    "\n",
    "PTPN11 encodes SHP-2, a protein tyrosine phosphatase involved in intracellular signaling pathways that regulate cell growth, differentiation, and survival. It plays a key role in the RAS/MAPK signaling pathway, which is crucial for normal development and oncogenesis. Mutations in this gene are involved in several diseases, including Noonan syndrome and juvenile leukemia."
   ]
  },
  {
   "cell_type": "code",
   "execution_count": 1,
   "id": "0f100a23",
   "metadata": {
    "ExecuteTime": {
     "end_time": "2024-09-21T16:50:34.221122Z",
     "start_time": "2024-09-21T16:50:32.352283Z"
    }
   },
   "outputs": [
    {
     "name": "stdout",
     "output_type": "stream",
     "text": [
      "Loaded HPO v2023-10-09\n",
      "Using gpsea version 0.4.1.dev0\n"
     ]
    }
   ],
   "source": [
    "import gpsea\n",
    "import hpotk\n",
    "\n",
    "store = hpotk.configure_ontology_store()\n",
    "hpo = store.load_minimal_hpo(release='v2023-10-09')\n",
    "print(f'Loaded HPO v{hpo.version}')\n",
    "print(f\"Using gpsea version {gpsea.__version__}\")"
   ]
  },
  {
   "cell_type": "markdown",
   "id": "d8a3d490",
   "metadata": {},
   "source": [
    "### Setup"
   ]
  },
  {
   "cell_type": "markdown",
   "source": [
    "##### According to Ensembl, the canonical transcript of PTPN11 is [ENST00000351677.7]( https://useast.ensembl.org/Homo_sapiens/Transcript/Summary?db=coreg=ENSG00000179295;r=12:112418947-112509918;t=ENST00000351677) which corresponds to transcript [NM_002834.5](https://www.ncbi.nlm.nih.gov/nuccore/NM_002834.5) and protein [NP_002825.3](https://www.ncbi.nlm.nih.gov/protein/NP_002825.3)"
   ],
   "metadata": {
    "collapsed": false
   },
   "id": "7d4d0aa0d803af83"
  },
  {
   "cell_type": "code",
   "execution_count": 2,
   "outputs": [],
   "source": [
    "PTPN11_transcript_id = \"NM_002834.5\"\n",
    "PTPN11_protein_id = \"NP_002825.3\"  # <<- This I think is the NP corresponding to the above canonical transcript ID, but I get an error below when trying to retrieve this from Uniprot\n",
    "\n",
    "# Uniprot lists these as other NP IDs:\n",
    "# NP_001317366.1 NM_001330437.1 [Q06124-1]\n",
    "# NP_002825.3 NM_002834.4 [Q06124-2]\n",
    "# NP_542168.1 NM_080601.2 [Q06124-3]\n",
    "\n",
    "# PTPN11_protein_id = \"NP_001317366.1\" # also no dice at Uniprot\n",
    "# PTPN11_protein_id = \"NP_002825.3\" # also no dice\n",
    "# PTPN11_protein_id = \"NP_542168.1\" # also no dice"
   ],
   "metadata": {
    "collapsed": false,
    "ExecuteTime": {
     "end_time": "2024-09-21T16:50:34.223877Z",
     "start_time": "2024-09-21T16:50:34.220909Z"
    }
   },
   "id": "7483157c8e7b7eb9"
  },
  {
   "cell_type": "markdown",
   "id": "5478af31",
   "metadata": {},
   "source": [
    "### Load Phenopackets\n",
    "\n",
    "We will load phenopackets from the *PTPN11* cohort of Phenopacket Store `0.1.18`."
   ]
  },
  {
   "cell_type": "code",
   "execution_count": 3,
   "id": "0ff60f76",
   "metadata": {
    "ExecuteTime": {
     "end_time": "2024-09-21T16:50:34.795420Z",
     "start_time": "2024-09-21T16:50:34.225283Z"
    }
   },
   "outputs": [
    {
     "name": "stdout",
     "output_type": "stream",
     "text": [
      "Individuals Processed: 100%|██████████| 70/70 [00:00<00:00, 681.06individuals/s]\n",
      "Validated under none policy\n",
      "No errors or warnings were found\n"
     ]
    }
   ],
   "source": [
    "from ppktstore.registry import configure_phenopacket_registry\n",
    "from gpsea.preprocessing import configure_caching_cohort_creator, load_phenopackets\n",
    "\n",
    "cohort_name = 'PTPN11'\n",
    "phenopacket_store_release = '0.1.19'\n",
    "\n",
    "registry = configure_phenopacket_registry()\n",
    "with registry.open_phenopacket_store(phenopacket_store_release) as ps:\n",
    "    phenopackets = tuple(ps.iter_cohort_phenopackets(cohort_name))\n",
    "\n",
    "cohort_creator = configure_caching_cohort_creator(hpo)\n",
    "cohort, validation = load_phenopackets(\n",
    "    phenopackets=phenopackets, \n",
    "    cohort_creator=cohort_creator,\n",
    ")\n",
    "del phenopackets\n",
    "validation.summarize()"
   ]
  },
  {
   "cell_type": "code",
   "execution_count": 4,
   "id": "766f6fdc",
   "metadata": {
    "ExecuteTime": {
     "end_time": "2024-09-21T16:50:35.859497Z",
     "start_time": "2024-09-21T16:50:34.795538Z"
    }
   },
   "outputs": [
    {
     "data": {
      "text/plain": "<IPython.core.display.HTML object>",
      "text/html": "<!DOCTYPE html>\n<html lang=\"en\">\n<head>\n  <meta charset=\"utf-8\">\n  <title>Cohort</title>\n    <style>\n    table {\n      border-collapse: collapse;\n      margin: 25px 0;\n      font-size: 0.9em;\n      font-family: sans-serif;\n      min-width: 400px;\n      box-shadow: 0 0 20px rgba(0, 0, 0, 0.15);\n    }\n\n    .table .column-1 {\n      text-align: left;\n    }\n    th {\n      background-color: LightSkyBlue;\n      border: 1px solid #dddddd;\n      text-align: left;\n      padding: 2px;\n      font-weight: bold;\n      font-size: 120%;\n    }\n\n    tr {\n      border: 1px solid #dddddd;\n    }\n\n    td {\n      padding: 2px;\n      font-weight: bold;\n    }\n\n    tr:nth-child(even) {\n      background-color: #f2f2f2;\n    }\n\n    .table td, tr {\n      text-align: right;\n    }\n\n    .lft {\n      text-align: left;\n    }\n\n    div {\n      display: block;\n      width: 100%;\n      padding-right: 1%;\n      margin-bottom: 20px; /* Add margin to separate divs */\n    }\n\n    caption {\n      caption-side: top;\n      text-align: left;\n      padding-bottom: 10px;\n      font-weight: bold;\n    }\n  </style>\n</head>\n\n<body>\n  <h1>GPSEA cohort analysis</h1>\n  <p>Successfully loaded 70 individuals.</p>\n  \n  <p>No errors encountered.</p>\n  \n\n    <table>\n    <caption style=\"color: black;\">\n        <h3>Top 10 HPO Terms</h3>\n        A total of 102 HPO terms were used to annotated the cohort.\n    </caption>\n        <tbody>\n            <tr class=\"strng\">\n                <th class=\"lft\">HPO Term</th>\n                <th>ID</th>\n                <th>Seen in <em>n</em> individuals</th>\n            </tr>\n            \n            <tr>\n                <td class=\"lft\">Hypertelorism</td>\n                <td>HP:0000316</td>\n                <td>37</td>\n                </tr>\n            \n            <tr>\n                <td class=\"lft\">Multiple lentigines</td>\n                <td>HP:0001003</td>\n                <td>29</td>\n                </tr>\n            \n            <tr>\n                <td class=\"lft\">Short stature</td>\n                <td>HP:0004322</td>\n                <td>26</td>\n                </tr>\n            \n            <tr>\n                <td class=\"lft\">Pulmonic stenosis</td>\n                <td>HP:0001642</td>\n                <td>18</td>\n                </tr>\n            \n            <tr>\n                <td class=\"lft\">Low-set ears</td>\n                <td>HP:0000369</td>\n                <td>18</td>\n                </tr>\n            \n            <tr>\n                <td class=\"lft\">Ptosis</td>\n                <td>HP:0000508</td>\n                <td>15</td>\n                </tr>\n            \n            <tr>\n                <td class=\"lft\">Webbed neck</td>\n                <td>HP:0000465</td>\n                <td>15</td>\n                </tr>\n            \n            <tr>\n                <td class=\"lft\">Global developmental delay</td>\n                <td>HP:0001263</td>\n                <td>13</td>\n                </tr>\n            \n            <tr>\n                <td class=\"lft\">Multiple enchondromatosis</td>\n                <td>HP:0005701</td>\n                <td>12</td>\n                </tr>\n            \n            <tr>\n                <td class=\"lft\">Multiple exostoses</td>\n                <td>HP:0002762</td>\n                <td>12</td>\n                </tr>\n            \n                </tbody>\n    </table>\n\n    <table>\n    <caption style=\"color: black;\">\n        <h3>Top 10 Variants</h3>\n        Variants are shown according to NM_002834.5. A total of 70 unique variants were identified in the cohort.\n    </caption>\n            <tbody>\n                <tr class=\"strng\">\n                    <th>Count</th>\n                    <th class=\"lft\">Variant key</th>\n                    <th>Variant Name</th>\n                    <th>Protein Variant</th>\n                    <th>Variant Class</th>\n                </tr>\n                \n                <tr>\n                    <td>16</td>\n                    <td class=\"lft\">12_112473023_112473023_A_G</td>\n                    <td>c.836A>G</td>\n                    <td>p.Tyr279Cys</td>\n                    <td>MISSENSE_VARIANT</td>\n                </tr>\n                \n                <tr>\n                    <td>11</td>\n                    <td class=\"lft\">12_112488466_112488466_C_T</td>\n                    <td>c.1403C>T</td>\n                    <td>p.Thr468Met</td>\n                    <td>MISSENSE_VARIANT</td>\n                </tr>\n                \n                <tr>\n                    <td>6</td>\n                    <td class=\"lft\">12_112472981_112472981_G_A</td>\n                    <td>c.794G>A</td>\n                    <td>p.Arg265Gln</td>\n                    <td>MISSENSE_VARIANT</td>\n                </tr>\n                \n                <tr>\n                    <td>5</td>\n                    <td class=\"lft\">12_112477719_112477719_A_G</td>\n                    <td>c.922A>G</td>\n                    <td>p.Asn308Asp</td>\n                    <td>MISSENSE_VARIANT</td>\n                </tr>\n                \n                <tr>\n                    <td>5</td>\n                    <td class=\"lft\">12_112472968_112472968_C_T</td>\n                    <td>c.781C>T</td>\n                    <td>p.Leu261Phe</td>\n                    <td>MISSENSE_VARIANT</td>\n                </tr>\n                \n                <tr>\n                    <td>4</td>\n                    <td class=\"lft\">12_112472972_112472972_T_G</td>\n                    <td>c.785T>G</td>\n                    <td>p.Leu262Arg</td>\n                    <td>MISSENSE_VARIANT</td>\n                </tr>\n                \n                <tr>\n                    <td>3</td>\n                    <td class=\"lft\">12_112472969_112472969_T_A</td>\n                    <td>c.782T>A</td>\n                    <td>p.Leu261His</td>\n                    <td>MISSENSE_VARIANT</td>\n                </tr>\n                \n                <tr>\n                    <td>1</td>\n                    <td class=\"lft\">12_112455984_112455988_TAGAA_T</td>\n                    <td>c.680_683del</td>\n                    <td>p.Glu227AlafsTer6</td>\n                    <td>FRAMESHIFT_VARIANT</td>\n                </tr>\n                \n                <tr>\n                    <td>1</td>\n                    <td class=\"lft\">12_112473040_112473040_T_C</td>\n                    <td>c.853T>C</td>\n                    <td>p.Phe285Leu</td>\n                    <td>MISSENSE_VARIANT, SPLICE_REGION_VARIANT</td>\n                </tr>\n                \n                <tr>\n                    <td>1</td>\n                    <td class=\"lft\">12_112453274_112453274_C_T</td>\n                    <td>c.412C>T</td>\n                    <td>p.Arg138Ter</td>\n                    <td>STOP_GAINED</td>\n                </tr>\n                \n            </tbody>\n        </table>\n    <table>\n    <caption style=\"color: black;\">\n        <h3>Diseases</h3>\n    </caption>\n        <tbody>\n            <tr class=\"strng\">\n                <th class=\"lft\">Disease Name</th>\n                <th >Disease ID</th>\n                <th>Annotation Count</th>\n              </tr>\n              \n              <tr>\n                <td class=\"lft\">LEOPARD syndrome 1</td>\n                <td>OMIM:151100</td>\n                <td>31</td>\n                </tr>\n            \n              <tr>\n                <td class=\"lft\">Noonan syndrome 1</td>\n                <td>OMIM:163950</td>\n                <td>27</td>\n                </tr>\n            \n              <tr>\n                <td class=\"lft\">Metachondromatosis</td>\n                <td>OMIM:156250</td>\n                <td>12</td>\n                </tr>\n            \n           </tbody>\n    </table>\n    \n    <table>\n    <caption style=\"color: black;\">\n        <h3>Variant categories for NM_002834.5</h3>\n    </caption>\n        <tbody>\n            <tr class=\"strng\">\n                <th class=\"lft\">Variant effect</th>\n                <th>Annotation Count</th>\n              </tr>\n              \n              <tr>\n                <td class=\"lft\">MISSENSE_VARIANT</td>\n                <td>58</td>\n                </tr>\n            \n              <tr>\n                <td class=\"lft\">FRAMESHIFT_VARIANT</td>\n                <td>6</td>\n                </tr>\n            \n              <tr>\n                <td class=\"lft\">SPLICE_REGION_VARIANT</td>\n                <td>2</td>\n                </tr>\n            \n              <tr>\n                <td class=\"lft\">STOP_GAINED</td>\n                <td>3</td>\n                </tr>\n            \n              <tr>\n                <td class=\"lft\">SPLICE_ACCEPTOR_VARIANT</td>\n                <td>3</td>\n                </tr>\n            \n           </tbody>\n    </table>\n  \n\n\n</body>\n</html>"
     },
     "metadata": {},
     "output_type": "display_data"
    }
   ],
   "source": [
    "from gpsea.view import CohortViewable\n",
    "from IPython.display import HTML, display\n",
    "\n",
    "viewer = CohortViewable(hpo)\n",
    "display(HTML(viewer.process(cohort=cohort, transcript_id=PTPN11_transcript_id)))"
   ]
  },
  {
   "cell_type": "code",
   "execution_count": 5,
   "id": "615010fa",
   "metadata": {
    "ExecuteTime": {
     "end_time": "2024-09-21T16:50:38.557162Z",
     "start_time": "2024-09-21T16:50:35.859162Z"
    }
   },
   "outputs": [
    {
     "ename": "ValueError",
     "evalue": "Could not find an entry for NP_002825.3 in Uniprot response",
     "output_type": "error",
     "traceback": [
      "\u001B[0;31m---------------------------------------------------------------------------\u001B[0m",
      "\u001B[0;31mValueError\u001B[0m                                Traceback (most recent call last)",
      "Cell \u001B[0;32mIn[5], line 9\u001B[0m\n\u001B[1;32m      6\u001B[0m tx_coordinates \u001B[38;5;241m=\u001B[39m txc_service\u001B[38;5;241m.\u001B[39mfetch(PTPN11_transcript_id) \n\u001B[1;32m      8\u001B[0m pms \u001B[38;5;241m=\u001B[39m configure_default_protein_metadata_service()\n\u001B[0;32m----> 9\u001B[0m protein_meta \u001B[38;5;241m=\u001B[39m \u001B[43mpms\u001B[49m\u001B[38;5;241;43m.\u001B[39;49m\u001B[43mannotate\u001B[49m\u001B[43m(\u001B[49m\u001B[43mPTPN11_protein_id\u001B[49m\u001B[43m)\u001B[49m\n",
      "File \u001B[0;32m~/PythonProject/gpsea/src/gpsea/preprocessing/_protein.py:94\u001B[0m, in \u001B[0;36mProtCachingMetadataService.annotate\u001B[0;34m(self, protein_id)\u001B[0m\n\u001B[1;32m     92\u001B[0m     \u001B[38;5;28;01mreturn\u001B[39;00m annotations\n\u001B[1;32m     93\u001B[0m \u001B[38;5;28;01melse\u001B[39;00m:\n\u001B[0;32m---> 94\u001B[0m     ann \u001B[38;5;241m=\u001B[39m \u001B[38;5;28;43mself\u001B[39;49m\u001B[38;5;241;43m.\u001B[39;49m\u001B[43m_fallback\u001B[49m\u001B[38;5;241;43m.\u001B[39;49m\u001B[43mannotate\u001B[49m\u001B[43m(\u001B[49m\u001B[43mprotein_id\u001B[49m\u001B[43m)\u001B[49m\n\u001B[1;32m     95\u001B[0m     \u001B[38;5;28mself\u001B[39m\u001B[38;5;241m.\u001B[39m_cache\u001B[38;5;241m.\u001B[39mstore_annotations(protein_id, ann)\n\u001B[1;32m     97\u001B[0m     \u001B[38;5;28;01mreturn\u001B[39;00m ann\n",
      "File \u001B[0;32m~/PythonProject/gpsea/src/gpsea/preprocessing/_uniprot.py:123\u001B[0m, in \u001B[0;36mUniprotProteinMetadataService.annotate\u001B[0;34m(self, protein_id)\u001B[0m\n\u001B[1;32m    120\u001B[0m     \u001B[38;5;28;01mraise\u001B[39;00m \u001B[38;5;167;01mValueError\u001B[39;00m(\u001B[38;5;124mf\u001B[39m\u001B[38;5;124m\"\u001B[39m\u001B[38;5;124monly works with a RefSeq database ID (e.g. NP_037407.4), but we got \u001B[39m\u001B[38;5;132;01m{\u001B[39;00mprotein_id\u001B[38;5;132;01m}\u001B[39;00m\u001B[38;5;124m\"\u001B[39m)\n\u001B[1;32m    122\u001B[0m response \u001B[38;5;241m=\u001B[39m \u001B[38;5;28mself\u001B[39m\u001B[38;5;241m.\u001B[39m_fetch_uniprot_response(protein_id)\n\u001B[0;32m--> 123\u001B[0m \u001B[38;5;28;01mreturn\u001B[39;00m \u001B[43mUniprotProteinMetadataService\u001B[49m\u001B[38;5;241;43m.\u001B[39;49m\u001B[43mparse_uniprot_json\u001B[49m\u001B[43m(\u001B[49m\u001B[43mresponse\u001B[49m\u001B[43m,\u001B[49m\u001B[43m \u001B[49m\u001B[43mprotein_id\u001B[49m\u001B[43m)\u001B[49m\n",
      "File \u001B[0;32m~/PythonProject/gpsea/src/gpsea/preprocessing/_uniprot.py:61\u001B[0m, in \u001B[0;36mUniprotProteinMetadataService.parse_uniprot_json\u001B[0;34m(payload, protein_id)\u001B[0m\n\u001B[1;32m     55\u001B[0m         \u001B[38;5;28;01mif\u001B[39;00m \u001B[38;5;28many\u001B[39m(uni[\u001B[38;5;124m'\u001B[39m\u001B[38;5;124mid\u001B[39m\u001B[38;5;124m'\u001B[39m] \u001B[38;5;241m==\u001B[39m protein_id \u001B[38;5;28;01mfor\u001B[39;00m uni \u001B[38;5;129;01min\u001B[39;00m protein[\u001B[38;5;124m'\u001B[39m\u001B[38;5;124muniProtKBCrossReferences\u001B[39m\u001B[38;5;124m'\u001B[39m]):\n\u001B[1;32m     56\u001B[0m             \u001B[38;5;28;01mreturn\u001B[39;00m UniprotProteinMetadataService\u001B[38;5;241m.\u001B[39m_extract_metadata(\n\u001B[1;32m     57\u001B[0m                 protein_id\u001B[38;5;241m=\u001B[39mprotein_id,\n\u001B[1;32m     58\u001B[0m                 data\u001B[38;5;241m=\u001B[39mprotein,\n\u001B[1;32m     59\u001B[0m             )\n\u001B[0;32m---> 61\u001B[0m \u001B[38;5;28;01mraise\u001B[39;00m \u001B[38;5;167;01mValueError\u001B[39;00m(\u001B[38;5;124mf\u001B[39m\u001B[38;5;124m'\u001B[39m\u001B[38;5;124mCould not find an entry for \u001B[39m\u001B[38;5;132;01m{\u001B[39;00mprotein_id\u001B[38;5;132;01m}\u001B[39;00m\u001B[38;5;124m in Uniprot response\u001B[39m\u001B[38;5;124m'\u001B[39m)\n",
      "\u001B[0;31mValueError\u001B[0m: Could not find an entry for NP_002825.3 in Uniprot response"
     ]
    }
   ],
   "source": [
    "from gpsea.model.genome import GRCh38\n",
    "from gpsea.preprocessing import VVMultiCoordinateService, \\\n",
    "    configure_default_protein_metadata_service\n",
    "\n",
    "txc_service = VVMultiCoordinateService(genome_build=GRCh38)\n",
    "tx_coordinates = txc_service.fetch(PTPN11_transcript_id) \n",
    "\n",
    "pms = configure_default_protein_metadata_service()\n",
    "protein_meta = pms.annotate(PTPN11_protein_id)"
   ]
  },
  {
   "cell_type": "code",
   "execution_count": null,
   "id": "3152c918",
   "metadata": {
    "ExecuteTime": {
     "start_time": "2024-09-21T16:50:38.558231Z"
    }
   },
   "outputs": [],
   "source": [
    "from gpsea.view import ProteinVisualizable, ProteinVisualizer, ProteinViewable\n",
    "\n",
    "pvis = ProteinVisualizable(tx_coordinates=tx_coordinates, protein_meta=protein_meta, cohort=cohort)\n",
    "drawer = ProteinVisualizer()\n",
    "drawer.draw_fig(pvis=pvis)"
   ]
  },
  {
   "cell_type": "code",
   "execution_count": null,
   "id": "cbb0ea2f",
   "metadata": {
    "ExecuteTime": {
     "end_time": "2024-09-21T16:50:38.561944Z",
     "start_time": "2024-09-21T16:50:38.559920Z"
    }
   },
   "outputs": [],
   "source": [
    "viewer = ProteinViewable()\n",
    "html_prot = viewer.process(cohort, pvis)\n",
    "display(HTML(html_prot))"
   ]
  },
  {
   "cell_type": "markdown",
   "id": "8357f23c",
   "metadata": {},
   "source": [
    "## Genotype phenotype correlation analysis"
   ]
  },
  {
   "cell_type": "markdown",
   "id": "8684a75c",
   "metadata": {},
   "source": [
    "### Genotype predicate"
   ]
  },
  {
   "cell_type": "code",
   "execution_count": null,
   "id": "9e1f53e4",
   "metadata": {
    "ExecuteTime": {
     "start_time": "2024-09-21T16:50:38.561216Z"
    }
   },
   "outputs": [],
   "source": [
    "from gpsea.model import VariantEffect\n",
    "from gpsea.analysis.predicate.genotype import VariantPredicates, ModeOfInheritancePredicate\n",
    "\n",
    "is_missense = VariantPredicates.variant_effect(VariantEffect.MISSENSE_VARIANT, PTPN11_transcript_id)\n",
    "moi_predicate = ModeOfInheritancePredicate.autosomal_recessive(\n",
    "    variant_predicate=is_missense,\n",
    ")\n",
    "moi_predicate.display_question()"
   ]
  },
  {
   "cell_type": "markdown",
   "id": "83fb2a82",
   "metadata": {},
   "source": [
    "These are the categorizations that can be produced:"
   ]
  },
  {
   "cell_type": "code",
   "execution_count": null,
   "id": "3564694a",
   "metadata": {
    "ExecuteTime": {
     "start_time": "2024-09-21T16:50:38.563256Z"
    }
   },
   "outputs": [],
   "source": [
    "cats = moi_predicate.get_categorizations()\n",
    "cats"
   ]
  },
  {
   "cell_type": "markdown",
   "id": "fc32bb65",
   "metadata": {},
   "source": [
    "However, we are only interested in comparing `HET` vs `BIALLELIC_ALT`, so we will filter the other category away:"
   ]
  },
  {
   "cell_type": "code",
   "execution_count": null,
   "id": "50f42273",
   "metadata": {
    "ExecuteTime": {
     "start_time": "2024-09-21T16:50:38.564343Z"
    }
   },
   "outputs": [],
   "source": [
    "from gpsea.analysis.predicate.genotype import filtering_predicate\n",
    "\n",
    "cats_of_interest = (cats[1], cats[2])\n",
    "gt_predicate = filtering_predicate(\n",
    "    predicate=moi_predicate,\n",
    "    targets=cats_of_interest,\n",
    ")\n",
    "gt_predicate.display_question()"
   ]
  },
  {
   "cell_type": "markdown",
   "id": "6ec1d80e",
   "metadata": {},
   "source": [
    "### Phenotype predicates"
   ]
  },
  {
   "cell_type": "code",
   "execution_count": null,
   "id": "21d4e4cd",
   "metadata": {
    "ExecuteTime": {
     "start_time": "2024-09-21T16:50:38.565675Z"
    }
   },
   "outputs": [],
   "source": [
    "from gpsea.analysis.predicate.phenotype import prepare_predicates_for_terms_of_interest\n",
    "\n",
    "pheno_predicates = prepare_predicates_for_terms_of_interest(\n",
    "    cohort=cohort,\n",
    "    hpo=hpo,\n",
    "    missing_implies_excluded=False,\n",
    "    min_n_of_patients_with_term=2,\n",
    ")\n",
    "len(pheno_predicates)"
   ]
  },
  {
   "cell_type": "markdown",
   "id": "0e9a9dd3",
   "metadata": {},
   "source": [
    "### MTC phenotype filter"
   ]
  },
  {
   "cell_type": "code",
   "execution_count": null,
   "id": "ade36715",
   "metadata": {
    "ExecuteTime": {
     "start_time": "2024-09-21T16:50:38.566423Z"
    }
   },
   "outputs": [],
   "source": [
    "from gpsea.analysis.mtc_filter import HpoMtcFilter\n",
    "mtc_filter = HpoMtcFilter.default_filter(\n",
    "    hpo=hpo,\n",
    "    term_frequency_threshold=0.2,\n",
    ")\n",
    "mtc_correction = 'fdr_bh'\n",
    "mtc_alpha = 0.05"
   ]
  },
  {
   "cell_type": "markdown",
   "id": "efe92d03",
   "metadata": {},
   "source": [
    "### Count statistic"
   ]
  },
  {
   "cell_type": "code",
   "execution_count": null,
   "id": "b4c8a4d1",
   "metadata": {
    "ExecuteTime": {
     "start_time": "2024-09-21T16:50:38.567183Z"
    }
   },
   "outputs": [],
   "source": [
    "from gpsea.analysis.pcats.stats import FisherExactTest\n",
    "\n",
    "count_statistic = FisherExactTest()"
   ]
  },
  {
   "cell_type": "markdown",
   "id": "12af4002",
   "metadata": {},
   "source": [
    "### Finalize the analysis"
   ]
  },
  {
   "cell_type": "code",
   "execution_count": null,
   "id": "7a9ad29e",
   "metadata": {
    "ExecuteTime": {
     "start_time": "2024-09-21T16:50:38.568289Z"
    }
   },
   "outputs": [],
   "source": [
    "from gpsea.analysis.pcats import HpoTermAnalysis\n",
    "\n",
    "analysis = HpoTermAnalysis(\n",
    "    count_statistic=count_statistic,\n",
    "    mtc_filter=mtc_filter,\n",
    "    mtc_correction=mtc_correction,\n",
    "    mtc_alpha=mtc_alpha,\n",
    ")"
   ]
  },
  {
   "cell_type": "markdown",
   "id": "531e077d",
   "metadata": {},
   "source": [
    "from gpsea.analysis import configure_cohort_analysis, CohortAnalysisConfiguration\n",
    "\n",
    "analysis_config = CohortAnalysisConfiguration()\n",
    "analysis_config.missing_implies_excluded = True\n",
    "analysis_config.pval_correction = 'fdr_bh'\n",
    "#analysis_config.hpo_mtc_strategy()\n",
    "analysis = configure_cohort_analysis(cohort, hpo, config=analysis_config)"
   ]
  },
  {
   "cell_type": "markdown",
   "id": "6f26642f",
   "metadata": {},
   "source": [
    "## Run the analyses"
   ]
  },
  {
   "cell_type": "markdown",
   "id": "4bb80a2c",
   "metadata": {},
   "source": [
    "Compare missense variants vs. other variants."
   ]
  },
  {
   "cell_type": "code",
   "execution_count": null,
   "id": "4847121e",
   "metadata": {
    "ExecuteTime": {
     "start_time": "2024-09-21T16:50:38.569121Z"
    }
   },
   "outputs": [],
   "source": [
    "result = analysis.compare_genotype_vs_phenotypes(\n",
    "    cohort=cohort,\n",
    "    gt_predicate=gt_predicate,\n",
    "    pheno_predicates=pheno_predicates,\n",
    ")"
   ]
  },
  {
   "cell_type": "code",
   "execution_count": null,
   "id": "217afa4e",
   "metadata": {
    "ExecuteTime": {
     "start_time": "2024-09-21T16:50:38.570571Z"
    }
   },
   "outputs": [],
   "source": [
    "result.total_tests"
   ]
  },
  {
   "cell_type": "code",
   "execution_count": null,
   "id": "0327c94f",
   "metadata": {
    "ExecuteTime": {
     "start_time": "2024-09-21T16:50:38.571399Z"
    }
   },
   "outputs": [],
   "source": [
    "from gpsea.analysis.predicate import PatientCategories\n",
    "\n",
    "result.summarize(hpo, PatientCategories.YES).head(10)"
   ]
  },
  {
   "cell_type": "markdown",
   "id": "f0388e17",
   "metadata": {},
   "source": [
    "TODO - finalize!"
   ]
  }
 ],
 "metadata": {
  "kernelspec": {
   "display_name": "Python 3 (ipykernel)",
   "language": "python",
   "name": "python3"
  },
  "language_info": {
   "codemirror_mode": {
    "name": "ipython",
    "version": 3
   },
   "file_extension": ".py",
   "mimetype": "text/x-python",
   "name": "python",
   "nbconvert_exporter": "python",
   "pygments_lexer": "ipython3",
   "version": "3.12.3"
  }
 },
 "nbformat": 4,
 "nbformat_minor": 5
}
