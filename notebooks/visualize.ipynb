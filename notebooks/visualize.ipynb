{
 "cells": [
  {
   "cell_type": "markdown",
   "metadata": {},
   "source": [
    "# Visualize\n",
    "\n",
    "Notebook to prototype visualization\n",
    "\n",
    "pip install descartes"
   ]
  },
  {
   "cell_type": "code",
   "execution_count": 42,
   "metadata": {},
   "outputs": [
    {
     "name": "stdout",
     "output_type": "stream",
     "text": [
      "Extracted 16 exons\n",
      "Extracted 16 exons\n",
      "Extracted 11 exons\n",
      "Extracted 16 exons\n",
      "Extracted 16 exons\n",
      "Could not retrieve hg38 genomic span from VariantValidator JSON data\n",
      "Extracted 16 exons\n",
      "Extracted 11 exons\n",
      "Extracted 11 exons\n",
      "Extracted 16 exons\n",
      "[INFO] retrieved 10 transcript models from VariantValidator\n"
     ]
    }
   ],
   "source": [
    "from genophenocorr.view import TxJsonFileRetriever\n",
    "retriever = TxJsonFileRetriever(directory_location=\"/Users/robinp/GIT/genophenocorr/tests/data/\")\n",
    "json_data_hbb = retriever.retrieve(\"NM_000518.4\")\n",
    "json_data_ptpn11 = retriever.retrieve('NM_002834.5')\n",
    "\n",
    "from genophenocorr.view import VvTranscriptModel\n",
    "vvt_model = VvTranscriptModel(json_data_ptpn11)"
   ]
  },
  {
   "cell_type": "code",
   "execution_count": 43,
   "metadata": {},
   "outputs": [
    {
     "name": "stdout",
     "output_type": "stream",
     "text": [
      "[VvTranscriptModel] PTPN11: protein tyrosine phosphatase non-receptor type 11 (HGNC:9644); requested NM_002834.5. Transcripts: n=10\n",
      "[VvTranscript] NM_002834.5-CDS: 166-1947, chrom: 12 length 6073 nt transl NP_002825.3: MANE select\n",
      "\t[VvExon] exon 1: 1-179\n",
      "\t[VvExon] exon 2: 180-302\n",
      "\t[VvExon] exon 3: 303-497\n",
      "\t[VvExon] exon 4: 498-690\n",
      "\t[VvExon] exon 5: 691-807\n",
      "\t[VvExon] exon 6: 808-921\n",
      "\t[VvExon] exon 7: 922-1018\n",
      "\t[VvExon] exon 8: 1019-1098\n",
      "\t[VvExon] exon 9: 1099-1257\n",
      "\t[VvExon] exon 10: 1258-1389\n",
      "\t[VvExon] exon 11: 1390-1544\n",
      "\t[VvExon] exon 12: 1545-1612\n",
      "\t[VvExon] exon 13: 1613-1764\n",
      "\t[VvExon] exon 14: 1765-1877\n",
      "\t[VvExon] exon 15: 1878-1979\n",
      "\t[VvExon] exon 16: 1980-6073\n"
     ]
    }
   ],
   "source": [
    "print(vvt_model)\n",
    "transcript1 = vvt_model.get_most_relevant_transcript()\n",
    "print(transcript1)\n",
    "for ex in transcript1.get_exon_list():\n",
    "    print(f\"\\t{ex}\")"
   ]
  },
  {
   "cell_type": "markdown",
   "metadata": {},
   "source": [
    "# Now collect cohort data"
   ]
  },
  {
   "cell_type": "code",
   "execution_count": 44,
   "metadata": {},
   "outputs": [
    {
     "name": "stdout",
     "output_type": "stream",
     "text": [
      "Loaded HPO v2023-10-09\n"
     ]
    }
   ],
   "source": [
    "from genophenocorr.preprocessing import configure_caching_patient_creator\n",
    "\n",
    "import hpotk\n",
    "hpo_uri = \"../../../data/hpo/hp.json\"\n",
    "hpo = hpotk.load_minimal_ontology(hpo_uri)\n",
    "print(f'Loaded HPO v{hpo.version}')\n",
    "patient_creator = configure_caching_patient_creator(hpo)"
   ]
  },
  {
   "cell_type": "code",
   "execution_count": 45,
   "metadata": {},
   "outputs": [
    {
     "name": "stdout",
     "output_type": "stream",
     "text": [
      "/Users/robinp/GIT/genophenocorr/notebooks\n"
     ]
    }
   ],
   "source": [
    "import os\n",
    "print(os.getcwd())"
   ]
  },
  {
   "cell_type": "code",
   "execution_count": 46,
   "metadata": {},
   "outputs": [
    {
     "name": "stdout",
     "output_type": "stream",
     "text": [
      "Loaded 42 individuals with variants in PTPN11\n"
     ]
    }
   ],
   "source": [
    "import os\n",
    "\n",
    "from google.protobuf.json_format import Parse\n",
    "from phenopackets import Phenopacket\n",
    "\n",
    "fpath_pp_dir = '../../phenopacket-store/notebooks/PTPN11/phenopackets/'\n",
    "\n",
    "ptpn11_individuals = []\n",
    "\n",
    "for dirpath, dirnames, filenames in os.walk(fpath_pp_dir):\n",
    "    for filename in filenames:\n",
    "        if filename.endswith('.json'):\n",
    "            fpath_pp = os.path.join(dirpath, filename)\n",
    "            pp = Phenopacket()\n",
    "            with open(fpath_pp) as fh:\n",
    "                Parse(fh.read(), pp)\n",
    "            patient = patient_creator.create_patient(pp)\n",
    "            ptpn11_individuals.append(patient)\n",
    "\n",
    "print(f'Loaded {len(ptpn11_individuals)} individuals with variants in PTPN11')"
   ]
  },
  {
   "cell_type": "code",
   "execution_count": 47,
   "metadata": {},
   "outputs": [
    {
     "data": {
      "text/html": [
       "<style>\n",
       "\n",
       "table {\n",
       "  border-collapse: collapse; \n",
       "  margin: 25px 0;\n",
       "    font-size: 0.9em;\n",
       "    font-family: sans-serif;\n",
       "    min-width: 400px;\n",
       "    box-shadow: 0 0 20px rgba(0, 0, 0, 0.15);\n",
       "}\n",
       "\n",
       "\n",
       "th {\n",
       "  background-color: #f2f2f2; \n",
       "  border: 1px solid #dddddd; \n",
       "  text-align: left;\n",
       "  padding: 2px;\n",
       "}\n",
       "\n",
       "tr {\n",
       "  border: 1px solid #dddddd; \n",
       "}\n",
       "\n",
       "td {\n",
       "  padding: 2px; \n",
       "  font-weight: bold;\n",
       "}\n",
       "\n",
       "tr:nth-child(even) {\n",
       "  background-color: #f2f2f2;\n",
       "}\n",
       "</style>\n",
       "\n",
       "<table>\n",
       "<tr><td>Item</td><td>Description</td></tr>\n",
       "<caption>Description of the cohort. </caption>\n",
       "<tr><td>Total Individuals</td><td>42</td></tr>\n",
       "<tr><td>Total Unique HPO Terms</td><td>57</td></tr>\n",
       "<tr><td>Total Unique Variants</td><td>42</td></tr>\n",
       "</table>"
      ],
      "text/plain": [
       "<IPython.core.display.HTML object>"
      ]
     },
     "metadata": {},
     "output_type": "display_data"
    }
   ],
   "source": [
    "from genophenocorr.model import Cohort\n",
    "from genophenocorr.view import CohortViewer\n",
    "from IPython.display import display, HTML\n",
    "ptpn11_cohort = Cohort.from_patients(ptpn11_individuals)\n",
    "#cohort.all_patients\n",
    "viewer = CohortViewer(hpo=hpo)\n",
    "display(HTML(viewer.cohort_summary_table(ptpn11_cohort)))"
   ]
  },
  {
   "cell_type": "code",
   "execution_count": 48,
   "metadata": {},
   "outputs": [],
   "source": [
    "# av is a set of genophenocorr.model._variant.Variant\n",
    "av = ptpn11_cohort.all_variants"
   ]
  },
  {
   "cell_type": "code",
   "execution_count": 70,
   "metadata": {},
   "outputs": [],
   "source": [
    "from typing import Set, List, Tuple\n",
    "from collections import defaultdict\n",
    "from genophenocorr.model import Variant, TranscriptAnnotation\n",
    "from genophenocorr.view import VvTranscript\n",
    "from pprint import pprint\n",
    "\n",
    "class VariantView:\n",
    "    \"\"\"POJO class that has all information we need to plot this Variant\"\"\"\n",
    "    def __init__(self, var:Variant,  tannot:TranscriptAnnotation ):\n",
    "        #print(var)\n",
    "        if not isinstance(var, Variant):\n",
    "            raise ValueError(f\"var argument must be Variant but was {type(var)}\")\n",
    "        if not isinstance(tannot, TranscriptAnnotation):\n",
    "            raise ValueError(f\"tannot argument must be TranscriptAnnotation but was {type(var)}\")\n",
    "        self._genomic_coordinates = var.variant_coordinates\n",
    "        self._variant_effects = tannot.variant_effects\n",
    "        self._hgvs_cdna = tannot.hgvsc_id\n",
    "        self._hgvs_p = \"WHERE IS THIS\"\n",
    "        self._overlapping_exons = tannot.overlapping_exons # a tuple with all exons touched by the mutation\n",
    "        self._protein_effect_loc = tannot.protein_effect_location\n",
    "\n",
    "    @property\n",
    "    def ucsc_contig(self):\n",
    "        \"\"\"\n",
    "        Returns:\n",
    "            the chromosome: a string such as chr12 or chrX\n",
    "        \"\"\"\n",
    "        return self._genomic_coordinates.region.contig.ucsc_name\n",
    "\n",
    "    @property\n",
    "    def genomic_start(self) -> int:\n",
    "        return self._genomic_coordinates.region.start\n",
    "\n",
    "    @property\n",
    "    def genomic_end(self) -> int:\n",
    "        return self._genomic_coordinates.region.end\n",
    "\n",
    "    @property\n",
    "    def strand(self) -> int:\n",
    "        return self._genomic_coordinates.region.strand\n",
    "\n",
    "    @property\n",
    "    def genomic_ref(self) -> int:\n",
    "        return self._genomic_coordinates.ref\n",
    "\n",
    "    @property\n",
    "    def genomic_alt(self) -> int:\n",
    "        return self._genomic_coordinates.alt\n",
    "\n",
    "    @property\n",
    "    def genomic_change_len(self) -> int:\n",
    "        return self._genomic_coordinates.change_length\n",
    "\n",
    "    @property\n",
    "    def protein_start(self):\n",
    "        return self._protein_effect_loc.start\n",
    "\n",
    "    @property\n",
    "    def protein_end(self):\n",
    "        return self._protein_effect_loc.end\n",
    "\n",
    "    @property\n",
    "    def hgvs_cdna(self):\n",
    "        return self._hgvs_cdna\n",
    "\n",
    "\n"
   ]
  },
  {
   "cell_type": "code",
   "execution_count": 71,
   "metadata": {},
   "outputs": [],
   "source": [
    "class ProteinVariantVisualiser:\n",
    "    def __init__(self, variant_set:Set[Variant], tx:VvTranscript, prot_len):\n",
    "        if not isinstance(variant_set, set):\n",
    "            raise ValueError(f\"variant_set argument must be a set but was {type(variant_set)}\")\n",
    "        self._variant_set = variant_set\n",
    "        self._reference_tx = tx\n",
    "        self._variant_view_list = self._filter_variants()\n",
    "        self._variants_sorted_by_frequency = self._count_variants()\n",
    "        self._protein_len = prot_len\n",
    "\n",
    "    def _filter_variants(self):\n",
    "        \"\"\"genophenocorr VariantObjects contain transcript annotations for multiple specific transcript. Choose the ones that correspond the reference transcript\n",
    "        and that have an effect on the protein\n",
    "        \"\"\"\n",
    "        matching_vars = list()\n",
    "        reference_tx_id = self._reference_tx.reference\n",
    "        for v in self._variant_set:\n",
    "            matching_tx = []\n",
    "            for annot in v.tx_annotations:\n",
    "                transcript_id = annot.transcript_id\n",
    "                if transcript_id == reference_tx_id:\n",
    "                    matching_tx.append(annot)\n",
    "            # We expect to get exactly one match per variant\n",
    "            if len(matching_tx) == 0:\n",
    "                print(f\"[WARNING] Could not find annotation of variant {v.variant_coordinates.variant_key} for {reference_tx_id}\")\n",
    "                continue\n",
    "            elif len(matching_tx) > 1:\n",
    "                print(f\"[WARNING] Found {len(matching_tx)} annotations of variant {v.variant_coordinates.variant_key} for {reference_tx_id}\")\n",
    "                continue\n",
    "            else:\n",
    "                # TODO TEMPORARY -- NEED TO ADD LOCATION OF VARIANT IN GENE OR IN TRASNCRIPT; NOT IN PROTEIN\n",
    "                if matching_tx[0].protein_effect_location is None:\n",
    "                    continue\n",
    "                matching_vars.append(VariantView(var=v, tannot=matching_tx[0]))\n",
    "        print(f\"Retrieved {len(matching_vars)} matching transcript annotations for {len(self._variant_set)} variants\")\n",
    "        return sorted(matching_vars, key=lambda x: x.protein_start)\n",
    "\n",
    "\n",
    "    def _count_variants(self):\n",
    "        \"\"\"Count the frequency of the variants in the cohort\n",
    "\n",
    "        Returns:\n",
    "            List[Tuple[str, int, Variant]]: List of tuples, with each tuple being a variant and its frequency, sorted in descending order\n",
    "        \"\"\"\n",
    "        var_count_d = defaultdict(int)\n",
    "        var_d = {}\n",
    "        for annot in self._variant_view_list:\n",
    "            var_count_d[annot.hgvs_cdna] += 1\n",
    "            var_d[annot.hgvs_cdna] = annot\n",
    "        sorted_variants_by_frequency = sorted(var_count_d.items(), key=lambda x:x[1], reverse=True)\n",
    "        sorted_triples = []\n",
    "        for duple in sorted_variants_by_frequency:\n",
    "            triple = (duple[0], duple[1], var_d.get(duple[0]))\n",
    "            sorted_triples.append(triple)\n",
    "        return sorted_triples\n",
    "\n",
    "    @property\n",
    "    def reference_transcript(self):\n",
    "        return self._reference_tx\n",
    "\n",
    "    @property\n",
    "    def tx_accession(self):\n",
    "        return self._reference_tx.reference\n",
    "\n",
    "    def get_sorted_variants(self):\n",
    "        return self._variants_sorted_by_frequency"
   ]
  },
  {
   "cell_type": "code",
   "execution_count": 72,
   "metadata": {},
   "outputs": [
    {
     "name": "stdout",
     "output_type": "stream",
     "text": [
      "Retrieved 39 matching transcript annotations for 42 variants\n"
     ]
    }
   ],
   "source": [
    "# the length of the ref protein in our example is 593.\n",
    "# todo -- calculate from exon and CDS data rather than looking up\n",
    "tv = ProteinVariantVisualiser(variant_set=av, tx=transcript1, prot_len = 593 )"
   ]
  },
  {
   "cell_type": "markdown",
   "metadata": {},
   "source": [
    "# Let's try a very simple plot to warm up\n"
   ]
  },
  {
   "cell_type": "code",
   "execution_count": 73,
   "metadata": {},
   "outputs": [],
   "source": [
    "import warnings\n",
    "from matplotlib import pyplot as plt\n",
    "from shapely.geometry.polygon import Polygon\n",
    "from descartes import PolygonPatch\n",
    "from shapely.errors import ShapelyDeprecationWarning\n",
    "warnings.filterwarnings(\"ignore\", category=ShapelyDeprecationWarning)"
   ]
  },
  {
   "cell_type": "code",
   "execution_count": 74,
   "metadata": {},
   "outputs": [],
   "source": [
    "import typing\n",
    "def get_interpolated_location_in_protein(start_in_prot:int, end_in_prot:int, prot_len:int, plot_width:int=1200, margin_size:int=20) -> typing.Tuple[int,int]:\n",
    "    used_plot_width = plot_width - 2*margin_size\n",
    "    rel_start_pos_in_prot = start_in_prot / prot_len\n",
    "    start_x = margin_size + used_plot_width*rel_start_pos_in_prot\n",
    "    rel_end_pos_in_prot = end_in_prot / prot_len\n",
    "    end_x = margin_size + used_plot_width*rel_end_pos_in_prot\n",
    "    return (start_x, end_x)\n",
    "\n",
    "\n"
   ]
  },
  {
   "cell_type": "code",
   "execution_count": 75,
   "metadata": {},
   "outputs": [
    {
     "data": {
      "image/png": "[encoded data removed]",
      "text/plain": [
       "<Figure size 1000x1000 with 1 Axes>"
      ]
     },
     "metadata": {},
     "output_type": "display_data"
    }
   ],
   "source": [
    "from matplotlib.patches import Rectangle\n",
    "from matplotlib.collections import PatchCollection\n",
    "from matplotlib.lines import Line2D\n",
    "\n",
    "def create_plot(pviz:ProteinVariantVisualiser):\n",
    "    title = f\"{pviz.tx_accession}\"\n",
    "    fig, ax = plt.subplots(1, figsize=(10, 10))\n",
    "    THRESHOLD = 2\n",
    "    BOTTOM_MARGIN = 20\n",
    "    amino_acid_len = pviz._protein_len\n",
    "    # draw a box that is ten aax tall, where aax is the dimension of one amino acid\n",
    "    (prot_start, prot_end) = get_interpolated_location_in_protein(1, amino_acid_len, amino_acid_len)\n",
    "    box_height = 10/amino_acid_len\n",
    "    prot_width = prot_end - prot_start + 1\n",
    "    protein_height = prot_width/20\n",
    "    #rect = Rectangle((prot_start, BOTTOM_MARGIN), prot_width, protein_height)\n",
    "    rect = Rectangle((50, 30), 1000, 40, edgecolor='black', facecolor='white', alpha=0.5)\n",
    "    ax.add_patch(rect)\n",
    "    for v_tuple in pviz.get_sorted_variants():\n",
    "        var_id = v_tuple[0]\n",
    "        freq = v_tuple[1]\n",
    "        var = v_tuple[2]\n",
    "        fields = var.hgvs_cdna.split(\":\")\n",
    "        if len(fields) > 1:\n",
    "            mut_name = fields[1]\n",
    "        else:\n",
    "            mut_name = fields[0]\n",
    "        (xpos,JUNK_TODOREFACGTOR) = get_interpolated_location_in_protein(var.protein_start, 0, amino_acid_len)\n",
    "        x = [xpos, xpos]\n",
    "        ybase = BOTTOM_MARGIN + protein_height\n",
    "        ytop = ybase + 10\n",
    "        y = [ybase, ytop]\n",
    "        line = Line2D(x, y)\n",
    "        ax.add_line(line)\n",
    "        if freq >= THRESHOLD:\n",
    "            message = f\"{mut_name} ({freq})\"\n",
    "            ax.text(x=xpos,y=ybase+10, s=message, fontsize='xx-small', rotation = 90,\n",
    "         rotation_mode = 'anchor' )\n",
    "        #print(var.protein_start)\n",
    "\n",
    "    ax.set_title(title, loc='left', fontsize='x-large')\n",
    "    ax.set_xlabel('X Label', labelpad=12, fontsize=14.5)\n",
    "    ax.set_ylabel('Y label', labelpad=12, fontsize=14.5)\n",
    "    ax.set_xlim(-10, 1200)\n",
    "    ax.set_ylim(0,120)\n",
    "\n",
    "\n",
    "create_plot(tv)"
   ]
  },
  {
   "cell_type": "code",
   "execution_count": 55,
   "metadata": {},
   "outputs": [
    {
     "name": "stdout",
     "output_type": "stream",
     "text": [
      "Help on function text in module matplotlib.pyplot:\n",
      "\n",
      "text(x, y, s, fontdict=None, **kwargs)\n",
      "    Add text to the Axes.\n",
      "    \n",
      "    Add the text *s* to the Axes at location *x*, *y* in data coordinates.\n",
      "    \n",
      "    Parameters\n",
      "    ----------\n",
      "    x, y : float\n",
      "        The position to place the text. By default, this is in data\n",
      "        coordinates. The coordinate system can be changed using the\n",
      "        *transform* parameter.\n",
      "    \n",
      "    s : str\n",
      "        The text.\n",
      "    \n",
      "    fontdict : dict, default: None\n",
      "        A dictionary to override the default text properties. If fontdict\n",
      "        is None, the defaults are determined by `.rcParams`.\n",
      "    \n",
      "    Returns\n",
      "    -------\n",
      "    `.Text`\n",
      "        The created `.Text` instance.\n",
      "    \n",
      "    Other Parameters\n",
      "    ----------------\n",
      "    **kwargs : `~matplotlib.text.Text` properties.\n",
      "        Other miscellaneous text parameters.\n",
      "    \n",
      "        Properties:\n",
      "        agg_filter: a filter function, which takes a (m, n, 3) float array and a dpi value, and returns a (m, n, 3) array and two offsets from the bottom left corner of the image\n",
      "        alpha: scalar or None\n",
      "        animated: bool\n",
      "        backgroundcolor: color\n",
      "        bbox: dict with properties for `.patches.FancyBboxPatch`\n",
      "        clip_box: unknown\n",
      "        clip_on: unknown\n",
      "        clip_path: unknown\n",
      "        color or c: color\n",
      "        figure: `.Figure`\n",
      "        fontfamily or family: {FONTNAME, 'serif', 'sans-serif', 'cursive', 'fantasy', 'monospace'}\n",
      "        fontproperties or font or font_properties: `.font_manager.FontProperties` or `str` or `pathlib.Path`\n",
      "        fontsize or size: float or {'xx-small', 'x-small', 'small', 'medium', 'large', 'x-large', 'xx-large'}\n",
      "        fontstretch or stretch: {a numeric value in range 0-1000, 'ultra-condensed', 'extra-condensed', 'condensed', 'semi-condensed', 'normal', 'semi-expanded', 'expanded', 'extra-expanded', 'ultra-expanded'}\n",
      "        fontstyle or style: {'normal', 'italic', 'oblique'}\n",
      "        fontvariant or variant: {'normal', 'small-caps'}\n",
      "        fontweight or weight: {a numeric value in range 0-1000, 'ultralight', 'light', 'normal', 'regular', 'book', 'medium', 'roman', 'semibold', 'demibold', 'demi', 'bold', 'heavy', 'extra bold', 'black'}\n",
      "        gid: str\n",
      "        horizontalalignment or ha: {'left', 'center', 'right'}\n",
      "        in_layout: bool\n",
      "        label: object\n",
      "        linespacing: float (multiple of font size)\n",
      "        math_fontfamily: str\n",
      "        mouseover: bool\n",
      "        multialignment or ma: {'left', 'right', 'center'}\n",
      "        parse_math: bool\n",
      "        path_effects: `.AbstractPathEffect`\n",
      "        picker: None or bool or float or callable\n",
      "        position: (float, float)\n",
      "        rasterized: bool\n",
      "        rotation: float or {'vertical', 'horizontal'}\n",
      "        rotation_mode: {None, 'default', 'anchor'}\n",
      "        sketch_params: (scale: float, length: float, randomness: float)\n",
      "        snap: bool or None\n",
      "        text: object\n",
      "        transform: `.Transform`\n",
      "        transform_rotates_text: bool\n",
      "        url: str\n",
      "        usetex: bool or None\n",
      "        verticalalignment or va: {'bottom', 'baseline', 'center', 'center_baseline', 'top'}\n",
      "        visible: bool\n",
      "        wrap: bool\n",
      "        x: float\n",
      "        y: float\n",
      "        zorder: float\n",
      "    \n",
      "    Examples\n",
      "    --------\n",
      "    Individual keyword arguments can be used to override any given\n",
      "    parameter::\n",
      "    \n",
      "        >>> text(x, y, s, fontsize=12)\n",
      "    \n",
      "    The default transform specifies that text is in data coords,\n",
      "    alternatively, you can specify text in axis coords ((0, 0) is\n",
      "    lower-left and (1, 1) is upper-right).  The example below places\n",
      "    text in the center of the Axes::\n",
      "    \n",
      "        >>> text(0.5, 0.5, 'matplotlib', horizontalalignment='center',\n",
      "        ...      verticalalignment='center', transform=ax.transAxes)\n",
      "    \n",
      "    You can put a rectangular box around the text instance (e.g., to\n",
      "    set a background color) by using the keyword *bbox*.  *bbox* is\n",
      "    a dictionary of `~matplotlib.patches.Rectangle`\n",
      "    properties.  For example::\n",
      "    \n",
      "        >>> text(x, y, s, bbox=dict(facecolor='red', alpha=0.5))\n",
      "\n"
     ]
    }
   ],
   "source": [
    "help(plt.text)"
   ]
  },
  {
   "cell_type": "code",
   "execution_count": null,
   "metadata": {},
   "outputs": [],
   "source": []
  }
 ],
 "metadata": {
  "kernelspec": {
   "display_name": "gpc2venv",
   "language": "python",
   "name": "python3"
  },
  "language_info": {
   "codemirror_mode": {
    "name": "ipython",
    "version": 3
   },
   "file_extension": ".py",
   "mimetype": "text/x-python",
   "name": "python",
   "nbconvert_exporter": "python",
   "pygments_lexer": "ipython3",
   "version": "3.8.10"
  }
 },
 "nbformat": 4,
 "nbformat_minor": 4
}
